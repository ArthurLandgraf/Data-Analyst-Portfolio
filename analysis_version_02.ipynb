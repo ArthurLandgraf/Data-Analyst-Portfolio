{
 "cells": [
  {
   "cell_type": "markdown",
   "id": "b5f99465",
   "metadata": {},
   "source": [
    "# Title 2\n",
    "## Subtitle"
   ]
  },
  {
   "cell_type": "code",
   "execution_count": 46,
   "id": "3ebd63f9",
   "metadata": {},
   "outputs": [],
   "source": [
    "import pandas as pd\n",
    "import numpy as np\n",
    "import re\n",
    "import matplotlib.pyplot as plt\n",
    "import itertools\n",
    "import scipy.stats as sp\n",
    "%matplotlib inline"
   ]
  },
  {
   "cell_type": "code",
   "execution_count": 2,
   "id": "8f0470aa",
   "metadata": {},
   "outputs": [],
   "source": [
    "apple_store = pd.read_csv(\"AppleStore.csv\")\n",
    "google_store = pd.read_csv(\"googleplaystore.csv\")"
   ]
  },
  {
   "cell_type": "markdown",
   "id": "934ec7a6",
   "metadata": {},
   "source": [
    "# Markdown to describe the data"
   ]
  },
  {
   "cell_type": "code",
   "execution_count": 3,
   "id": "a478cba5",
   "metadata": {},
   "outputs": [
    {
     "name": "stdout",
     "output_type": "stream",
     "text": [
      "**Apple Store Dataset Columns: \n",
      "\n",
      "id\n",
      "track_name\n",
      "size_bytes\n",
      "currency\n",
      "price\n",
      "rating_count_tot\n",
      "rating_count_ver\n",
      "user_rating\n",
      "user_rating_ver\n",
      "ver\n",
      "cont_rating\n",
      "prime_genre\n",
      "sup_devices.num\n",
      "ipadSc_urls.num\n",
      "lang.num\n",
      "vpp_lic\n"
     ]
    }
   ],
   "source": [
    "print(\"**Apple Store Dataset Columns:\", '\\n')\n",
    "for c in apple_store.columns:\n",
    "    print(c)"
   ]
  },
  {
   "cell_type": "code",
   "execution_count": 4,
   "id": "c96863b7",
   "metadata": {},
   "outputs": [
    {
     "name": "stdout",
     "output_type": "stream",
     "text": [
      "**Google Play Store Dataset Columns: \n",
      "\n",
      "App\n",
      "Category\n",
      "Rating\n",
      "Reviews\n",
      "Size\n",
      "Installs\n",
      "Type\n",
      "Price\n",
      "Content Rating\n",
      "Genres\n",
      "Last Updated\n",
      "Current Ver\n",
      "Android Ver\n"
     ]
    }
   ],
   "source": [
    "print(\"**Google Play Store Dataset Columns:\", '\\n')\n",
    "for c in google_store.columns:\n",
    "    print(c)"
   ]
  },
  {
   "cell_type": "markdown",
   "id": "e558e135",
   "metadata": {},
   "source": [
    "# CLEANING PROCESS STAGE 1\n",
    "\n",
    "The analysis is going to focus on free apps, and not all columns are needed for the final analysis. So based on the column analysis these are the key <span style=\"color:green\">**properties to keep**</span> in order to have a consistent merged file:\n",
    "- App Name/IDs\n",
    "- App Size (bytes)\n",
    "- Installs\n",
    "- Count of total Ratings\n",
    "- Ratings (total)\n",
    "- Category/Genre/Prime Genre\n",
    "- Price\n",
    "\n",
    "The following related properties will be <span style=\"color:red\">**dropped**</span>:\n",
    "- **Related to Versions**\n",
    "- **Related to Devices/Softwares**\n",
    "\n",
    "The analysis final outcome is related to categories and different ways of couting users, and not really related to technical information about the apps itself. For this reason, all these information will be dropped.\n",
    "\n",
    "The <span style=\"color:blue\">**cleaning process**</span> is going to follow the order:\n",
    "- Renaming columns\n",
    "- Dropping/Reordering columns\n",
    "- Implementing proper data-types to the columns\n",
    "- Inspecting NaN values and any other wrong inputs\n",
    "- Dropping paid apps\n",
    "- Dealing with duplicates\n",
    "\n",
    "_All done separatedly for Apple and then Google's datasets._"
   ]
  },
  {
   "cell_type": "markdown",
   "id": "d1028006",
   "metadata": {},
   "source": [
    "## APPLE"
   ]
  },
  {
   "cell_type": "code",
   "execution_count": 5,
   "id": "1c2b2078",
   "metadata": {},
   "outputs": [
    {
     "data": {
      "text/html": [
       "<div>\n",
       "<style scoped>\n",
       "    .dataframe tbody tr th:only-of-type {\n",
       "        vertical-align: middle;\n",
       "    }\n",
       "\n",
       "    .dataframe tbody tr th {\n",
       "        vertical-align: top;\n",
       "    }\n",
       "\n",
       "    .dataframe thead th {\n",
       "        text-align: right;\n",
       "    }\n",
       "</style>\n",
       "<table border=\"1\" class=\"dataframe\">\n",
       "  <thead>\n",
       "    <tr style=\"text-align: right;\">\n",
       "      <th></th>\n",
       "      <th>id</th>\n",
       "      <th>app_name</th>\n",
       "      <th>genre</th>\n",
       "      <th>size_bytes</th>\n",
       "      <th>price</th>\n",
       "      <th>rating_count</th>\n",
       "      <th>rating</th>\n",
       "    </tr>\n",
       "  </thead>\n",
       "  <tbody>\n",
       "    <tr>\n",
       "      <th>0</th>\n",
       "      <td>284882215</td>\n",
       "      <td>Facebook</td>\n",
       "      <td>Social Networking</td>\n",
       "      <td>389879808</td>\n",
       "      <td>0.0</td>\n",
       "      <td>2974676</td>\n",
       "      <td>3.5</td>\n",
       "    </tr>\n",
       "    <tr>\n",
       "      <th>1</th>\n",
       "      <td>389801252</td>\n",
       "      <td>Instagram</td>\n",
       "      <td>Photo &amp; Video</td>\n",
       "      <td>113954816</td>\n",
       "      <td>0.0</td>\n",
       "      <td>2161558</td>\n",
       "      <td>4.5</td>\n",
       "    </tr>\n",
       "    <tr>\n",
       "      <th>2</th>\n",
       "      <td>529479190</td>\n",
       "      <td>Clash of Clans</td>\n",
       "      <td>Games</td>\n",
       "      <td>116476928</td>\n",
       "      <td>0.0</td>\n",
       "      <td>2130805</td>\n",
       "      <td>4.5</td>\n",
       "    </tr>\n",
       "    <tr>\n",
       "      <th>3</th>\n",
       "      <td>420009108</td>\n",
       "      <td>Temple Run</td>\n",
       "      <td>Games</td>\n",
       "      <td>65921024</td>\n",
       "      <td>0.0</td>\n",
       "      <td>1724546</td>\n",
       "      <td>4.5</td>\n",
       "    </tr>\n",
       "    <tr>\n",
       "      <th>4</th>\n",
       "      <td>284035177</td>\n",
       "      <td>Pandora - Music &amp; Radio</td>\n",
       "      <td>Music</td>\n",
       "      <td>130242560</td>\n",
       "      <td>0.0</td>\n",
       "      <td>1126879</td>\n",
       "      <td>4.0</td>\n",
       "    </tr>\n",
       "  </tbody>\n",
       "</table>\n",
       "</div>"
      ],
      "text/plain": [
       "          id                 app_name              genre  size_bytes  price  \\\n",
       "0  284882215                 Facebook  Social Networking   389879808    0.0   \n",
       "1  389801252                Instagram      Photo & Video   113954816    0.0   \n",
       "2  529479190           Clash of Clans              Games   116476928    0.0   \n",
       "3  420009108               Temple Run              Games    65921024    0.0   \n",
       "4  284035177  Pandora - Music & Radio              Music   130242560    0.0   \n",
       "\n",
       "   rating_count  rating  \n",
       "0       2974676     3.5  \n",
       "1       2161558     4.5  \n",
       "2       2130805     4.5  \n",
       "3       1724546     4.5  \n",
       "4       1126879     4.0  "
      ]
     },
     "execution_count": 5,
     "metadata": {},
     "output_type": "execute_result"
    }
   ],
   "source": [
    "apple_crop = apple_store.copy()[[\"id\", \"track_name\", \"prime_genre\", \"size_bytes\", \"price\", \"rating_count_tot\", \"user_rating\"]]\n",
    "apple_crop.columns = [\"id\", \"app_name\", \"genre\", \"size_bytes\", \"price\", \"rating_count\", \"rating\"]\n",
    "apple_crop.head()"
   ]
  },
  {
   "cell_type": "code",
   "execution_count": 6,
   "id": "6320c47d",
   "metadata": {},
   "outputs": [
    {
     "data": {
      "text/plain": [
       "(7197, 7)"
      ]
     },
     "execution_count": 6,
     "metadata": {},
     "output_type": "execute_result"
    }
   ],
   "source": [
    "apple_crop.shape"
   ]
  },
  {
   "cell_type": "code",
   "execution_count": 7,
   "id": "90e9eecc",
   "metadata": {},
   "outputs": [
    {
     "name": "stdout",
     "output_type": "stream",
     "text": [
      "id : \t int64\n",
      "app_name : \t object\n",
      "genre : \t object\n",
      "size_bytes : \t int64\n",
      "price : \t float64\n",
      "rating_count : \t int64\n",
      "rating : \t float64\n"
     ]
    }
   ],
   "source": [
    "for c in apple_crop.columns:\n",
    "    print(c, ':', '\\t', apple_crop[c].dtype)"
   ]
  },
  {
   "cell_type": "code",
   "execution_count": 8,
   "id": "046698da",
   "metadata": {},
   "outputs": [
    {
     "name": "stdout",
     "output_type": "stream",
     "text": [
      "id \n",
      " False    7197\n",
      "Name: id, dtype: int64 \n",
      "\n",
      "app_name \n",
      " False    7197\n",
      "Name: app_name, dtype: int64 \n",
      "\n",
      "genre \n",
      " False    7197\n",
      "Name: genre, dtype: int64 \n",
      "\n",
      "size_bytes \n",
      " False    7197\n",
      "Name: size_bytes, dtype: int64 \n",
      "\n",
      "price \n",
      " False    7197\n",
      "Name: price, dtype: int64 \n",
      "\n",
      "rating_count \n",
      " False    7197\n",
      "Name: rating_count, dtype: int64 \n",
      "\n",
      "rating \n",
      " False    7197\n",
      "Name: rating, dtype: int64 \n",
      "\n"
     ]
    }
   ],
   "source": [
    "for c in apple_crop.columns:\n",
    "    print(c, '\\n', apple_crop[c].isna().value_counts(), '\\n')"
   ]
  },
  {
   "cell_type": "code",
   "execution_count": 9,
   "id": "63ded363",
   "metadata": {},
   "outputs": [
    {
     "name": "stdout",
     "output_type": "stream",
     "text": [
      "(4056, 7)\n"
     ]
    },
    {
     "data": {
      "text/html": [
       "<div>\n",
       "<style scoped>\n",
       "    .dataframe tbody tr th:only-of-type {\n",
       "        vertical-align: middle;\n",
       "    }\n",
       "\n",
       "    .dataframe tbody tr th {\n",
       "        vertical-align: top;\n",
       "    }\n",
       "\n",
       "    .dataframe thead th {\n",
       "        text-align: right;\n",
       "    }\n",
       "</style>\n",
       "<table border=\"1\" class=\"dataframe\">\n",
       "  <thead>\n",
       "    <tr style=\"text-align: right;\">\n",
       "      <th></th>\n",
       "      <th>id</th>\n",
       "      <th>app_name</th>\n",
       "      <th>genre</th>\n",
       "      <th>size_bytes</th>\n",
       "      <th>price</th>\n",
       "      <th>rating_count</th>\n",
       "      <th>rating</th>\n",
       "    </tr>\n",
       "  </thead>\n",
       "  <tbody>\n",
       "    <tr>\n",
       "      <th>0</th>\n",
       "      <td>284882215</td>\n",
       "      <td>Facebook</td>\n",
       "      <td>Social Networking</td>\n",
       "      <td>389879808</td>\n",
       "      <td>0.0</td>\n",
       "      <td>2974676</td>\n",
       "      <td>3.5</td>\n",
       "    </tr>\n",
       "    <tr>\n",
       "      <th>1</th>\n",
       "      <td>389801252</td>\n",
       "      <td>Instagram</td>\n",
       "      <td>Photo &amp; Video</td>\n",
       "      <td>113954816</td>\n",
       "      <td>0.0</td>\n",
       "      <td>2161558</td>\n",
       "      <td>4.5</td>\n",
       "    </tr>\n",
       "    <tr>\n",
       "      <th>2</th>\n",
       "      <td>529479190</td>\n",
       "      <td>Clash of Clans</td>\n",
       "      <td>Games</td>\n",
       "      <td>116476928</td>\n",
       "      <td>0.0</td>\n",
       "      <td>2130805</td>\n",
       "      <td>4.5</td>\n",
       "    </tr>\n",
       "    <tr>\n",
       "      <th>3</th>\n",
       "      <td>420009108</td>\n",
       "      <td>Temple Run</td>\n",
       "      <td>Games</td>\n",
       "      <td>65921024</td>\n",
       "      <td>0.0</td>\n",
       "      <td>1724546</td>\n",
       "      <td>4.5</td>\n",
       "    </tr>\n",
       "    <tr>\n",
       "      <th>4</th>\n",
       "      <td>284035177</td>\n",
       "      <td>Pandora - Music &amp; Radio</td>\n",
       "      <td>Music</td>\n",
       "      <td>130242560</td>\n",
       "      <td>0.0</td>\n",
       "      <td>1126879</td>\n",
       "      <td>4.0</td>\n",
       "    </tr>\n",
       "  </tbody>\n",
       "</table>\n",
       "</div>"
      ],
      "text/plain": [
       "          id                 app_name              genre  size_bytes  price  \\\n",
       "0  284882215                 Facebook  Social Networking   389879808    0.0   \n",
       "1  389801252                Instagram      Photo & Video   113954816    0.0   \n",
       "2  529479190           Clash of Clans              Games   116476928    0.0   \n",
       "3  420009108               Temple Run              Games    65921024    0.0   \n",
       "4  284035177  Pandora - Music & Radio              Music   130242560    0.0   \n",
       "\n",
       "   rating_count  rating  \n",
       "0       2974676     3.5  \n",
       "1       2161558     4.5  \n",
       "2       2130805     4.5  \n",
       "3       1724546     4.5  \n",
       "4       1126879     4.0  "
      ]
     },
     "execution_count": 9,
     "metadata": {},
     "output_type": "execute_result"
    }
   ],
   "source": [
    "apple_free = apple_crop.copy()[apple_crop['price'] == 0]\n",
    "print(apple_free.shape)\n",
    "apple_free.head()"
   ]
  },
  {
   "cell_type": "code",
   "execution_count": 10,
   "id": "58d24c9b",
   "metadata": {},
   "outputs": [
    {
     "data": {
      "text/plain": [
       "False    4052\n",
       "True        4\n",
       "dtype: int64"
      ]
     },
     "execution_count": 10,
     "metadata": {},
     "output_type": "execute_result"
    }
   ],
   "source": [
    "apple_free.duplicated(\"app_name\", keep=False).value_counts()"
   ]
  },
  {
   "cell_type": "code",
   "execution_count": 11,
   "id": "58268e8b",
   "metadata": {},
   "outputs": [
    {
     "data": {
      "text/html": [
       "<div>\n",
       "<style scoped>\n",
       "    .dataframe tbody tr th:only-of-type {\n",
       "        vertical-align: middle;\n",
       "    }\n",
       "\n",
       "    .dataframe tbody tr th {\n",
       "        vertical-align: top;\n",
       "    }\n",
       "\n",
       "    .dataframe thead th {\n",
       "        text-align: right;\n",
       "    }\n",
       "</style>\n",
       "<table border=\"1\" class=\"dataframe\">\n",
       "  <thead>\n",
       "    <tr style=\"text-align: right;\">\n",
       "      <th></th>\n",
       "      <th>id</th>\n",
       "      <th>app_name</th>\n",
       "      <th>genre</th>\n",
       "      <th>size_bytes</th>\n",
       "      <th>price</th>\n",
       "      <th>rating_count</th>\n",
       "      <th>rating</th>\n",
       "    </tr>\n",
       "  </thead>\n",
       "  <tbody>\n",
       "    <tr>\n",
       "      <th>2948</th>\n",
       "      <td>1173990889</td>\n",
       "      <td>Mannequin Challenge</td>\n",
       "      <td>Games</td>\n",
       "      <td>109705216</td>\n",
       "      <td>0.0</td>\n",
       "      <td>668</td>\n",
       "      <td>3.0</td>\n",
       "    </tr>\n",
       "    <tr>\n",
       "      <th>4442</th>\n",
       "      <td>952877179</td>\n",
       "      <td>VR Roller Coaster</td>\n",
       "      <td>Games</td>\n",
       "      <td>169523200</td>\n",
       "      <td>0.0</td>\n",
       "      <td>107</td>\n",
       "      <td>3.5</td>\n",
       "    </tr>\n",
       "    <tr>\n",
       "      <th>4463</th>\n",
       "      <td>1178454060</td>\n",
       "      <td>Mannequin Challenge</td>\n",
       "      <td>Games</td>\n",
       "      <td>59572224</td>\n",
       "      <td>0.0</td>\n",
       "      <td>105</td>\n",
       "      <td>4.0</td>\n",
       "    </tr>\n",
       "    <tr>\n",
       "      <th>4831</th>\n",
       "      <td>1089824278</td>\n",
       "      <td>VR Roller Coaster</td>\n",
       "      <td>Games</td>\n",
       "      <td>240964608</td>\n",
       "      <td>0.0</td>\n",
       "      <td>67</td>\n",
       "      <td>3.5</td>\n",
       "    </tr>\n",
       "  </tbody>\n",
       "</table>\n",
       "</div>"
      ],
      "text/plain": [
       "              id             app_name  genre  size_bytes  price  rating_count  \\\n",
       "2948  1173990889  Mannequin Challenge  Games   109705216    0.0           668   \n",
       "4442   952877179    VR Roller Coaster  Games   169523200    0.0           107   \n",
       "4463  1178454060  Mannequin Challenge  Games    59572224    0.0           105   \n",
       "4831  1089824278    VR Roller Coaster  Games   240964608    0.0            67   \n",
       "\n",
       "      rating  \n",
       "2948     3.0  \n",
       "4442     3.5  \n",
       "4463     4.0  \n",
       "4831     3.5  "
      ]
     },
     "execution_count": 11,
     "metadata": {},
     "output_type": "execute_result"
    }
   ],
   "source": [
    "apple_free[apple_free.duplicated(\"app_name\", keep=False)]"
   ]
  },
  {
   "cell_type": "code",
   "execution_count": 12,
   "id": "3da04b0b",
   "metadata": {},
   "outputs": [
    {
     "data": {
      "text/plain": [
       "False    4054\n",
       "dtype: int64"
      ]
     },
     "execution_count": 12,
     "metadata": {},
     "output_type": "execute_result"
    }
   ],
   "source": [
    "apple_free.sort_values(\"rating_count\", ascending=False, inplace=True)\n",
    "apple_unique = apple_free.drop_duplicates(subset=\"app_name\", keep=\"first\", inplace=False, ignore_index=True)\n",
    "apple_unique.duplicated(\"app_name\", keep=False).value_counts()"
   ]
  },
  {
   "cell_type": "code",
   "execution_count": 13,
   "id": "02b70ad2",
   "metadata": {},
   "outputs": [
    {
     "data": {
      "text/html": [
       "<div>\n",
       "<style scoped>\n",
       "    .dataframe tbody tr th:only-of-type {\n",
       "        vertical-align: middle;\n",
       "    }\n",
       "\n",
       "    .dataframe tbody tr th {\n",
       "        vertical-align: top;\n",
       "    }\n",
       "\n",
       "    .dataframe thead th {\n",
       "        text-align: right;\n",
       "    }\n",
       "</style>\n",
       "<table border=\"1\" class=\"dataframe\">\n",
       "  <thead>\n",
       "    <tr style=\"text-align: right;\">\n",
       "      <th></th>\n",
       "      <th>id</th>\n",
       "      <th>app_name</th>\n",
       "      <th>genre</th>\n",
       "      <th>size_bytes</th>\n",
       "      <th>price</th>\n",
       "      <th>rating_count</th>\n",
       "      <th>rating</th>\n",
       "    </tr>\n",
       "  </thead>\n",
       "  <tbody>\n",
       "    <tr>\n",
       "      <th>2625</th>\n",
       "      <td>952877179</td>\n",
       "      <td>VR Roller Coaster</td>\n",
       "      <td>Games</td>\n",
       "      <td>169523200</td>\n",
       "      <td>0.0</td>\n",
       "      <td>107</td>\n",
       "      <td>3.5</td>\n",
       "    </tr>\n",
       "  </tbody>\n",
       "</table>\n",
       "</div>"
      ],
      "text/plain": [
       "             id           app_name  genre  size_bytes  price  rating_count  \\\n",
       "2625  952877179  VR Roller Coaster  Games   169523200    0.0           107   \n",
       "\n",
       "      rating  \n",
       "2625     3.5  "
      ]
     },
     "execution_count": 13,
     "metadata": {},
     "output_type": "execute_result"
    }
   ],
   "source": [
    "apple_unique[apple_unique['app_name'] == \"VR Roller Coaster\"]"
   ]
  },
  {
   "cell_type": "code",
   "execution_count": 14,
   "id": "8495f9ac",
   "metadata": {},
   "outputs": [
    {
     "data": {
      "text/html": [
       "<div>\n",
       "<style scoped>\n",
       "    .dataframe tbody tr th:only-of-type {\n",
       "        vertical-align: middle;\n",
       "    }\n",
       "\n",
       "    .dataframe tbody tr th {\n",
       "        vertical-align: top;\n",
       "    }\n",
       "\n",
       "    .dataframe thead th {\n",
       "        text-align: right;\n",
       "    }\n",
       "</style>\n",
       "<table border=\"1\" class=\"dataframe\">\n",
       "  <thead>\n",
       "    <tr style=\"text-align: right;\">\n",
       "      <th></th>\n",
       "      <th>app_name</th>\n",
       "      <th>genre</th>\n",
       "      <th>size_bytes</th>\n",
       "      <th>rating_count</th>\n",
       "      <th>rating</th>\n",
       "    </tr>\n",
       "  </thead>\n",
       "  <tbody>\n",
       "    <tr>\n",
       "      <th>0</th>\n",
       "      <td>Facebook</td>\n",
       "      <td>Social Networking</td>\n",
       "      <td>389879808</td>\n",
       "      <td>2974676</td>\n",
       "      <td>3.5</td>\n",
       "    </tr>\n",
       "    <tr>\n",
       "      <th>1</th>\n",
       "      <td>Instagram</td>\n",
       "      <td>Photo &amp; Video</td>\n",
       "      <td>113954816</td>\n",
       "      <td>2161558</td>\n",
       "      <td>4.5</td>\n",
       "    </tr>\n",
       "    <tr>\n",
       "      <th>2</th>\n",
       "      <td>Clash of Clans</td>\n",
       "      <td>Games</td>\n",
       "      <td>116476928</td>\n",
       "      <td>2130805</td>\n",
       "      <td>4.5</td>\n",
       "    </tr>\n",
       "    <tr>\n",
       "      <th>3</th>\n",
       "      <td>Temple Run</td>\n",
       "      <td>Games</td>\n",
       "      <td>65921024</td>\n",
       "      <td>1724546</td>\n",
       "      <td>4.5</td>\n",
       "    </tr>\n",
       "    <tr>\n",
       "      <th>4</th>\n",
       "      <td>Pandora - Music &amp; Radio</td>\n",
       "      <td>Music</td>\n",
       "      <td>130242560</td>\n",
       "      <td>1126879</td>\n",
       "      <td>4.0</td>\n",
       "    </tr>\n",
       "  </tbody>\n",
       "</table>\n",
       "</div>"
      ],
      "text/plain": [
       "                  app_name              genre  size_bytes  rating_count  \\\n",
       "0                 Facebook  Social Networking   389879808       2974676   \n",
       "1                Instagram      Photo & Video   113954816       2161558   \n",
       "2           Clash of Clans              Games   116476928       2130805   \n",
       "3               Temple Run              Games    65921024       1724546   \n",
       "4  Pandora - Music & Radio              Music   130242560       1126879   \n",
       "\n",
       "   rating  \n",
       "0     3.5  \n",
       "1     4.5  \n",
       "2     4.5  \n",
       "3     4.5  \n",
       "4     4.0  "
      ]
     },
     "execution_count": 14,
     "metadata": {},
     "output_type": "execute_result"
    }
   ],
   "source": [
    "apple_final = apple_unique.copy()[[\"app_name\", \"genre\", \"size_bytes\", \"rating_count\", \"rating\"]]\n",
    "apple_final.head()"
   ]
  },
  {
   "cell_type": "markdown",
   "id": "d60fb931",
   "metadata": {},
   "source": [
    "# GOOGLE"
   ]
  },
  {
   "cell_type": "code",
   "execution_count": 15,
   "id": "3ca839fd",
   "metadata": {},
   "outputs": [
    {
     "data": {
      "text/html": [
       "<div>\n",
       "<style scoped>\n",
       "    .dataframe tbody tr th:only-of-type {\n",
       "        vertical-align: middle;\n",
       "    }\n",
       "\n",
       "    .dataframe tbody tr th {\n",
       "        vertical-align: top;\n",
       "    }\n",
       "\n",
       "    .dataframe thead th {\n",
       "        text-align: right;\n",
       "    }\n",
       "</style>\n",
       "<table border=\"1\" class=\"dataframe\">\n",
       "  <thead>\n",
       "    <tr style=\"text-align: right;\">\n",
       "      <th></th>\n",
       "      <th>app_name</th>\n",
       "      <th>category</th>\n",
       "      <th>genre</th>\n",
       "      <th>size_bytes</th>\n",
       "      <th>price</th>\n",
       "      <th>installs</th>\n",
       "      <th>rating_count</th>\n",
       "      <th>rating</th>\n",
       "    </tr>\n",
       "  </thead>\n",
       "  <tbody>\n",
       "    <tr>\n",
       "      <th>0</th>\n",
       "      <td>Photo Editor &amp; Candy Camera &amp; Grid &amp; ScrapBook</td>\n",
       "      <td>ART_AND_DESIGN</td>\n",
       "      <td>Art &amp; Design</td>\n",
       "      <td>19M</td>\n",
       "      <td>0</td>\n",
       "      <td>10,000+</td>\n",
       "      <td>159</td>\n",
       "      <td>4.1</td>\n",
       "    </tr>\n",
       "    <tr>\n",
       "      <th>1</th>\n",
       "      <td>Coloring book moana</td>\n",
       "      <td>ART_AND_DESIGN</td>\n",
       "      <td>Art &amp; Design;Pretend Play</td>\n",
       "      <td>14M</td>\n",
       "      <td>0</td>\n",
       "      <td>500,000+</td>\n",
       "      <td>967</td>\n",
       "      <td>3.9</td>\n",
       "    </tr>\n",
       "    <tr>\n",
       "      <th>2</th>\n",
       "      <td>U Launcher Lite – FREE Live Cool Themes, Hide ...</td>\n",
       "      <td>ART_AND_DESIGN</td>\n",
       "      <td>Art &amp; Design</td>\n",
       "      <td>8.7M</td>\n",
       "      <td>0</td>\n",
       "      <td>5,000,000+</td>\n",
       "      <td>87510</td>\n",
       "      <td>4.7</td>\n",
       "    </tr>\n",
       "    <tr>\n",
       "      <th>3</th>\n",
       "      <td>Sketch - Draw &amp; Paint</td>\n",
       "      <td>ART_AND_DESIGN</td>\n",
       "      <td>Art &amp; Design</td>\n",
       "      <td>25M</td>\n",
       "      <td>0</td>\n",
       "      <td>50,000,000+</td>\n",
       "      <td>215644</td>\n",
       "      <td>4.5</td>\n",
       "    </tr>\n",
       "    <tr>\n",
       "      <th>4</th>\n",
       "      <td>Pixel Draw - Number Art Coloring Book</td>\n",
       "      <td>ART_AND_DESIGN</td>\n",
       "      <td>Art &amp; Design;Creativity</td>\n",
       "      <td>2.8M</td>\n",
       "      <td>0</td>\n",
       "      <td>100,000+</td>\n",
       "      <td>967</td>\n",
       "      <td>4.3</td>\n",
       "    </tr>\n",
       "  </tbody>\n",
       "</table>\n",
       "</div>"
      ],
      "text/plain": [
       "                                            app_name        category  \\\n",
       "0     Photo Editor & Candy Camera & Grid & ScrapBook  ART_AND_DESIGN   \n",
       "1                                Coloring book moana  ART_AND_DESIGN   \n",
       "2  U Launcher Lite – FREE Live Cool Themes, Hide ...  ART_AND_DESIGN   \n",
       "3                              Sketch - Draw & Paint  ART_AND_DESIGN   \n",
       "4              Pixel Draw - Number Art Coloring Book  ART_AND_DESIGN   \n",
       "\n",
       "                       genre size_bytes price     installs rating_count  \\\n",
       "0               Art & Design        19M     0      10,000+          159   \n",
       "1  Art & Design;Pretend Play        14M     0     500,000+          967   \n",
       "2               Art & Design       8.7M     0   5,000,000+        87510   \n",
       "3               Art & Design        25M     0  50,000,000+       215644   \n",
       "4    Art & Design;Creativity       2.8M     0     100,000+          967   \n",
       "\n",
       "   rating  \n",
       "0     4.1  \n",
       "1     3.9  \n",
       "2     4.7  \n",
       "3     4.5  \n",
       "4     4.3  "
      ]
     },
     "execution_count": 15,
     "metadata": {},
     "output_type": "execute_result"
    }
   ],
   "source": [
    "google_crop = google_store.copy()[[\"App\", \"Category\", \"Genres\", \"Size\", \"Price\", \"Installs\", \"Reviews\", \"Rating\"]]\n",
    "google_crop.columns = [\"app_name\", \"category\", \"genre\", \"size_bytes\", \"price\", \"installs\", \"rating_count\", \"rating\"]\n",
    "google_crop.head()"
   ]
  },
  {
   "cell_type": "code",
   "execution_count": 16,
   "id": "98cce4c0",
   "metadata": {},
   "outputs": [
    {
     "name": "stdout",
     "output_type": "stream",
     "text": [
      "app_name : \t object\n",
      "category : \t object\n",
      "genre : \t object\n",
      "size_bytes : \t object\n",
      "price : \t object\n",
      "installs : \t object\n",
      "rating_count : \t object\n",
      "rating : \t float64\n"
     ]
    }
   ],
   "source": [
    "for c in google_crop.columns:\n",
    "    print(c, ':', '\\t', google_crop[c].dtype)"
   ]
  },
  {
   "cell_type": "code",
   "execution_count": 17,
   "id": "a8b9bf16",
   "metadata": {},
   "outputs": [
    {
     "name": "stdout",
     "output_type": "stream",
     "text": [
      "There's some price value which is not a price\n"
     ]
    }
   ],
   "source": [
    "try:\n",
    "    google_crop['price'] = google_crop['price'].str.replace('$', '', regex=False).astype(float)\n",
    "except:\n",
    "    print(\"There's some price value which is not a price\")"
   ]
  },
  {
   "cell_type": "code",
   "execution_count": 18,
   "id": "7513b7f2",
   "metadata": {},
   "outputs": [
    {
     "data": {
      "text/html": [
       "<div>\n",
       "<style scoped>\n",
       "    .dataframe tbody tr th:only-of-type {\n",
       "        vertical-align: middle;\n",
       "    }\n",
       "\n",
       "    .dataframe tbody tr th {\n",
       "        vertical-align: top;\n",
       "    }\n",
       "\n",
       "    .dataframe thead th {\n",
       "        text-align: right;\n",
       "    }\n",
       "</style>\n",
       "<table border=\"1\" class=\"dataframe\">\n",
       "  <thead>\n",
       "    <tr style=\"text-align: right;\">\n",
       "      <th></th>\n",
       "      <th>App</th>\n",
       "      <th>Category</th>\n",
       "      <th>Rating</th>\n",
       "      <th>Reviews</th>\n",
       "      <th>Size</th>\n",
       "      <th>Installs</th>\n",
       "      <th>Type</th>\n",
       "      <th>Price</th>\n",
       "      <th>Content Rating</th>\n",
       "      <th>Genres</th>\n",
       "      <th>Last Updated</th>\n",
       "      <th>Current Ver</th>\n",
       "      <th>Android Ver</th>\n",
       "    </tr>\n",
       "  </thead>\n",
       "  <tbody>\n",
       "    <tr>\n",
       "      <th>10472</th>\n",
       "      <td>Life Made WI-Fi Touchscreen Photo Frame</td>\n",
       "      <td>1.9</td>\n",
       "      <td>19.0</td>\n",
       "      <td>3.0M</td>\n",
       "      <td>1,000+</td>\n",
       "      <td>Free</td>\n",
       "      <td>0</td>\n",
       "      <td>Everyone</td>\n",
       "      <td>NaN</td>\n",
       "      <td>February 11, 2018</td>\n",
       "      <td>1.0.19</td>\n",
       "      <td>4.0 and up</td>\n",
       "      <td>NaN</td>\n",
       "    </tr>\n",
       "  </tbody>\n",
       "</table>\n",
       "</div>"
      ],
      "text/plain": [
       "                                           App Category  Rating Reviews  \\\n",
       "10472  Life Made WI-Fi Touchscreen Photo Frame      1.9    19.0    3.0M   \n",
       "\n",
       "         Size Installs Type     Price Content Rating             Genres  \\\n",
       "10472  1,000+     Free    0  Everyone            NaN  February 11, 2018   \n",
       "\n",
       "      Last Updated Current Ver Android Ver  \n",
       "10472       1.0.19  4.0 and up         NaN  "
      ]
     },
     "execution_count": 18,
     "metadata": {},
     "output_type": "execute_result"
    }
   ],
   "source": [
    "google_store[google_store['Price'] == \"Everyone\"]"
   ]
  },
  {
   "cell_type": "code",
   "execution_count": 19,
   "id": "94e25646",
   "metadata": {},
   "outputs": [
    {
     "data": {
      "text/plain": [
       "0           10040\n",
       "Everyone        1\n",
       "Name: price, dtype: int64"
      ]
     },
     "execution_count": 19,
     "metadata": {},
     "output_type": "execute_result"
    }
   ],
   "source": [
    "google_crop.loc[~google_crop['price'].str.startswith(\"$\"), 'price'].value_counts()"
   ]
  },
  {
   "cell_type": "markdown",
   "id": "f184b86c",
   "metadata": {},
   "source": [
    "Decision to drop (low rating count)"
   ]
  },
  {
   "cell_type": "code",
   "execution_count": 20,
   "id": "6ada7bdd",
   "metadata": {},
   "outputs": [],
   "source": [
    "google_crop.drop(10472, axis=0, inplace=True)\n",
    "try:\n",
    "    google_crop['price'] = google_crop['price'].str.replace('$', '', regex=False).astype(float)\n",
    "except:\n",
    "    print(\"There's some price value which is not a price\")"
   ]
  },
  {
   "cell_type": "code",
   "execution_count": 21,
   "id": "37d3a72f",
   "metadata": {},
   "outputs": [
    {
     "name": "stdout",
     "output_type": "stream",
     "text": [
      "app_name : \t object\n",
      "category : \t object\n",
      "genre : \t object\n",
      "size_bytes : \t object\n",
      "price : \t float64\n",
      "installs : \t object\n",
      "rating_count : \t object\n",
      "rating : \t float64\n"
     ]
    }
   ],
   "source": [
    "for c in google_crop.columns:\n",
    "    print(c, ':', '\\t', google_crop[c].dtype)"
   ]
  },
  {
   "cell_type": "code",
   "execution_count": 22,
   "id": "fe2dd95d",
   "metadata": {},
   "outputs": [],
   "source": [
    "try:\n",
    "    google_crop['rating_count'] = google_crop['rating_count'].astype(int)\n",
    "except:\n",
    "    print(\"There's some value which is not rating_count\")"
   ]
  },
  {
   "cell_type": "code",
   "execution_count": 23,
   "id": "929e396e",
   "metadata": {},
   "outputs": [
    {
     "data": {
      "text/plain": [
       "Varies with device    1695\n",
       "375k                     3\n",
       "266k                     3\n",
       "201k                     3\n",
       "118k                     3\n",
       "                      ... \n",
       "414k                     1\n",
       "308k                     1\n",
       "921k                     1\n",
       "246k                     1\n",
       "749k                     1\n",
       "Name: size_bytes, Length: 279, dtype: int64"
      ]
     },
     "execution_count": 23,
     "metadata": {},
     "output_type": "execute_result"
    }
   ],
   "source": [
    "google_crop.loc[~google_crop['size_bytes'].str.endswith(\"M\"), 'size_bytes'].value_counts()"
   ]
  },
  {
   "cell_type": "code",
   "execution_count": 24,
   "id": "29e75d81",
   "metadata": {},
   "outputs": [],
   "source": [
    "def convert_sizes(siz):\n",
    "    # Firstly if there's no '.' just substitute M and k for it's respective bytes amount.\n",
    "    if '.' not in siz:\n",
    "        return siz.replace('M', '000000').replace('k', '000')\n",
    "    # Secondly if the number is round but in a float format, we do the same as above.\n",
    "    elif '.0' in siz:\n",
    "        return siz.replace('.0M', '000000').replace('.0k', '000')\n",
    "    # Thirdly if there is a decimal place different than 0, we keep it and add remaining bytes.\n",
    "    elif '.' in siz:\n",
    "        return siz.replace('.', '').replace(\"M\", '00000').replace('k', '00')\n",
    "    # Lastly if there's still some condition not covered, return with no changes.\n",
    "    else:\n",
    "        return siz"
   ]
  },
  {
   "cell_type": "code",
   "execution_count": 25,
   "id": "0cc10670",
   "metadata": {},
   "outputs": [
    {
     "name": "stdout",
     "output_type": "stream",
     "text": [
      "0    19000000\n",
      "1    14000000\n",
      "2     8700000\n",
      "3    25000000\n",
      "4     2800000\n",
      "5     5600000\n",
      "6    19000000\n",
      "7    29000000\n",
      "8    33000000\n",
      "9     3100000\n",
      "Name: size_bytes, dtype: object\n",
      "\n",
      "\n",
      "0     19M\n",
      "1     14M\n",
      "2    8.7M\n",
      "3     25M\n",
      "4    2.8M\n",
      "5    5.6M\n",
      "6     19M\n",
      "7     29M\n",
      "8     33M\n",
      "9    3.1M\n",
      "Name: Size, dtype: object\n"
     ]
    }
   ],
   "source": [
    "google_crop['size_bytes'] = google_crop['size_bytes'].apply(convert_sizes)\n",
    "print(google_crop['size_bytes'].head(10))\n",
    "print('\\n')\n",
    "print(google_store['Size'].head(10))"
   ]
  },
  {
   "cell_type": "code",
   "execution_count": 26,
   "id": "340d4bda",
   "metadata": {},
   "outputs": [
    {
     "name": "stdout",
     "output_type": "stream",
     "text": [
      "count    1.084000e+04\n",
      "mean     1.815209e+07\n",
      "std      2.217061e+07\n",
      "min      0.000000e+00\n",
      "25%      2.600000e+06\n",
      "50%      9.200000e+06\n",
      "75%      2.600000e+07\n",
      "max      1.000000e+08\n",
      "Name: size_bytes, dtype: float64\n",
      "\n",
      "\n",
      "(-100000.001, 10000000.0]    5755\n",
      "(10000000.0, 20000000.0]     1698\n",
      "(20000000.0, 30000000.0]     1176\n",
      "(30000000.0, 40000000.0]      656\n",
      "(40000000.0, 50000000.0]      481\n",
      "(50000000.0, 60000000.0]      338\n",
      "(60000000.0, 70000000.0]      240\n",
      "(90000000.0, 100000000.0]     205\n",
      "(70000000.0, 80000000.0]      168\n",
      "(80000000.0, 90000000.0]      123\n",
      "Name: size_bytes, dtype: int64\n"
     ]
    }
   ],
   "source": [
    "google_crop['size_bytes'] = google_crop['size_bytes'].str.replace('Varies with device', '0').astype(int)\n",
    "print(google_crop['size_bytes'].describe())\n",
    "print('\\n')\n",
    "print(google_crop['size_bytes'].value_counts(bins=10))"
   ]
  },
  {
   "cell_type": "code",
   "execution_count": 27,
   "id": "7c3510ec",
   "metadata": {},
   "outputs": [
    {
     "name": "stdout",
     "output_type": "stream",
     "text": [
      "app_name : \t object\n",
      "category : \t object\n",
      "genre : \t object\n",
      "size_bytes : \t int64\n",
      "price : \t float64\n",
      "installs : \t object\n",
      "rating_count : \t int64\n",
      "rating : \t float64\n"
     ]
    }
   ],
   "source": [
    "for c in google_crop.columns:\n",
    "    print(c, ':', '\\t', google_crop[c].dtype)"
   ]
  },
  {
   "cell_type": "code",
   "execution_count": 28,
   "id": "e917ac23",
   "metadata": {},
   "outputs": [
    {
     "data": {
      "text/plain": [
       "0        10,000+\n",
       "1       500,000+\n",
       "2     5,000,000+\n",
       "3    50,000,000+\n",
       "4       100,000+\n",
       "5        50,000+\n",
       "6        50,000+\n",
       "7     1,000,000+\n",
       "8     1,000,000+\n",
       "9        10,000+\n",
       "Name: installs, dtype: object"
      ]
     },
     "execution_count": 28,
     "metadata": {},
     "output_type": "execute_result"
    }
   ],
   "source": [
    "google_crop['installs'].head(10)"
   ]
  },
  {
   "cell_type": "code",
   "execution_count": 29,
   "id": "6dc8c6a0",
   "metadata": {},
   "outputs": [
    {
     "data": {
      "text/plain": [
       "1,000,000+        1579\n",
       "10,000,000+       1252\n",
       "100,000+          1169\n",
       "10,000+           1054\n",
       "1,000+             907\n",
       "5,000,000+         752\n",
       "100+               719\n",
       "500,000+           539\n",
       "50,000+            479\n",
       "5,000+             477\n",
       "100,000,000+       409\n",
       "10+                386\n",
       "500+               330\n",
       "50,000,000+        289\n",
       "50+                205\n",
       "5+                  82\n",
       "500,000,000+        72\n",
       "1+                  67\n",
       "1,000,000,000+      58\n",
       "0+                  14\n",
       "0                    1\n",
       "Name: installs, dtype: int64"
      ]
     },
     "execution_count": 29,
     "metadata": {},
     "output_type": "execute_result"
    }
   ],
   "source": [
    "google_crop['installs'].value_counts()"
   ]
  },
  {
   "cell_type": "code",
   "execution_count": 30,
   "id": "5a638549",
   "metadata": {},
   "outputs": [],
   "source": [
    "google_crop.rename({'installs':'installs_category'}, axis=1, inplace=True)"
   ]
  },
  {
   "cell_type": "code",
   "execution_count": 31,
   "id": "75de9989",
   "metadata": {},
   "outputs": [
    {
     "data": {
      "text/html": [
       "<div>\n",
       "<style scoped>\n",
       "    .dataframe tbody tr th:only-of-type {\n",
       "        vertical-align: middle;\n",
       "    }\n",
       "\n",
       "    .dataframe tbody tr th {\n",
       "        vertical-align: top;\n",
       "    }\n",
       "\n",
       "    .dataframe thead th {\n",
       "        text-align: right;\n",
       "    }\n",
       "</style>\n",
       "<table border=\"1\" class=\"dataframe\">\n",
       "  <thead>\n",
       "    <tr style=\"text-align: right;\">\n",
       "      <th></th>\n",
       "      <th>app_name</th>\n",
       "      <th>category</th>\n",
       "      <th>genre</th>\n",
       "      <th>size_bytes</th>\n",
       "      <th>price</th>\n",
       "      <th>installs_category</th>\n",
       "      <th>rating_count</th>\n",
       "      <th>rating</th>\n",
       "    </tr>\n",
       "  </thead>\n",
       "  <tbody>\n",
       "    <tr>\n",
       "      <th>0</th>\n",
       "      <td>Photo Editor &amp; Candy Camera &amp; Grid &amp; ScrapBook</td>\n",
       "      <td>ART_AND_DESIGN</td>\n",
       "      <td>Art &amp; Design</td>\n",
       "      <td>19000000</td>\n",
       "      <td>0.0</td>\n",
       "      <td>10,000+</td>\n",
       "      <td>159</td>\n",
       "      <td>4.1</td>\n",
       "    </tr>\n",
       "    <tr>\n",
       "      <th>1</th>\n",
       "      <td>Coloring book moana</td>\n",
       "      <td>ART_AND_DESIGN</td>\n",
       "      <td>Art &amp; Design;Pretend Play</td>\n",
       "      <td>14000000</td>\n",
       "      <td>0.0</td>\n",
       "      <td>500,000+</td>\n",
       "      <td>967</td>\n",
       "      <td>3.9</td>\n",
       "    </tr>\n",
       "    <tr>\n",
       "      <th>2</th>\n",
       "      <td>U Launcher Lite – FREE Live Cool Themes, Hide ...</td>\n",
       "      <td>ART_AND_DESIGN</td>\n",
       "      <td>Art &amp; Design</td>\n",
       "      <td>8700000</td>\n",
       "      <td>0.0</td>\n",
       "      <td>5,000,000+</td>\n",
       "      <td>87510</td>\n",
       "      <td>4.7</td>\n",
       "    </tr>\n",
       "    <tr>\n",
       "      <th>3</th>\n",
       "      <td>Sketch - Draw &amp; Paint</td>\n",
       "      <td>ART_AND_DESIGN</td>\n",
       "      <td>Art &amp; Design</td>\n",
       "      <td>25000000</td>\n",
       "      <td>0.0</td>\n",
       "      <td>50,000,000+</td>\n",
       "      <td>215644</td>\n",
       "      <td>4.5</td>\n",
       "    </tr>\n",
       "    <tr>\n",
       "      <th>4</th>\n",
       "      <td>Pixel Draw - Number Art Coloring Book</td>\n",
       "      <td>ART_AND_DESIGN</td>\n",
       "      <td>Art &amp; Design;Creativity</td>\n",
       "      <td>2800000</td>\n",
       "      <td>0.0</td>\n",
       "      <td>100,000+</td>\n",
       "      <td>967</td>\n",
       "      <td>4.3</td>\n",
       "    </tr>\n",
       "  </tbody>\n",
       "</table>\n",
       "</div>"
      ],
      "text/plain": [
       "                                            app_name        category  \\\n",
       "0     Photo Editor & Candy Camera & Grid & ScrapBook  ART_AND_DESIGN   \n",
       "1                                Coloring book moana  ART_AND_DESIGN   \n",
       "2  U Launcher Lite – FREE Live Cool Themes, Hide ...  ART_AND_DESIGN   \n",
       "3                              Sketch - Draw & Paint  ART_AND_DESIGN   \n",
       "4              Pixel Draw - Number Art Coloring Book  ART_AND_DESIGN   \n",
       "\n",
       "                       genre  size_bytes  price installs_category  \\\n",
       "0               Art & Design    19000000    0.0           10,000+   \n",
       "1  Art & Design;Pretend Play    14000000    0.0          500,000+   \n",
       "2               Art & Design     8700000    0.0        5,000,000+   \n",
       "3               Art & Design    25000000    0.0       50,000,000+   \n",
       "4    Art & Design;Creativity     2800000    0.0          100,000+   \n",
       "\n",
       "   rating_count  rating  \n",
       "0           159     4.1  \n",
       "1           967     3.9  \n",
       "2         87510     4.7  \n",
       "3        215644     4.5  \n",
       "4           967     4.3  "
      ]
     },
     "execution_count": 31,
     "metadata": {},
     "output_type": "execute_result"
    }
   ],
   "source": [
    "google_crop.head()"
   ]
  },
  {
   "cell_type": "code",
   "execution_count": 32,
   "id": "e89b8f4e",
   "metadata": {},
   "outputs": [
    {
     "name": "stdout",
     "output_type": "stream",
     "text": [
      "app_name \n",
      " False    10840\n",
      "Name: app_name, dtype: int64 \n",
      "\n",
      "category \n",
      " False    10840\n",
      "Name: category, dtype: int64 \n",
      "\n",
      "genre \n",
      " False    10840\n",
      "Name: genre, dtype: int64 \n",
      "\n",
      "size_bytes \n",
      " False    10840\n",
      "Name: size_bytes, dtype: int64 \n",
      "\n",
      "price \n",
      " False    10840\n",
      "Name: price, dtype: int64 \n",
      "\n",
      "installs_category \n",
      " False    10840\n",
      "Name: installs_category, dtype: int64 \n",
      "\n",
      "rating_count \n",
      " False    10840\n",
      "Name: rating_count, dtype: int64 \n",
      "\n",
      "rating \n",
      " False    9366\n",
      "True     1474\n",
      "Name: rating, dtype: int64 \n",
      "\n"
     ]
    }
   ],
   "source": [
    "for c in google_crop.columns:\n",
    "    print(c, '\\n', google_crop[c].isna().value_counts(), '\\n')"
   ]
  },
  {
   "cell_type": "code",
   "execution_count": 33,
   "id": "ea496685",
   "metadata": {},
   "outputs": [
    {
     "name": "stdout",
     "output_type": "stream",
     "text": [
      "(10040, 8)\n"
     ]
    },
    {
     "data": {
      "text/html": [
       "<div>\n",
       "<style scoped>\n",
       "    .dataframe tbody tr th:only-of-type {\n",
       "        vertical-align: middle;\n",
       "    }\n",
       "\n",
       "    .dataframe tbody tr th {\n",
       "        vertical-align: top;\n",
       "    }\n",
       "\n",
       "    .dataframe thead th {\n",
       "        text-align: right;\n",
       "    }\n",
       "</style>\n",
       "<table border=\"1\" class=\"dataframe\">\n",
       "  <thead>\n",
       "    <tr style=\"text-align: right;\">\n",
       "      <th></th>\n",
       "      <th>app_name</th>\n",
       "      <th>category</th>\n",
       "      <th>genre</th>\n",
       "      <th>size_bytes</th>\n",
       "      <th>price</th>\n",
       "      <th>installs_category</th>\n",
       "      <th>rating_count</th>\n",
       "      <th>rating</th>\n",
       "    </tr>\n",
       "  </thead>\n",
       "  <tbody>\n",
       "    <tr>\n",
       "      <th>0</th>\n",
       "      <td>Photo Editor &amp; Candy Camera &amp; Grid &amp; ScrapBook</td>\n",
       "      <td>ART_AND_DESIGN</td>\n",
       "      <td>Art &amp; Design</td>\n",
       "      <td>19000000</td>\n",
       "      <td>0.0</td>\n",
       "      <td>10,000+</td>\n",
       "      <td>159</td>\n",
       "      <td>4.1</td>\n",
       "    </tr>\n",
       "    <tr>\n",
       "      <th>1</th>\n",
       "      <td>Coloring book moana</td>\n",
       "      <td>ART_AND_DESIGN</td>\n",
       "      <td>Art &amp; Design;Pretend Play</td>\n",
       "      <td>14000000</td>\n",
       "      <td>0.0</td>\n",
       "      <td>500,000+</td>\n",
       "      <td>967</td>\n",
       "      <td>3.9</td>\n",
       "    </tr>\n",
       "    <tr>\n",
       "      <th>2</th>\n",
       "      <td>U Launcher Lite – FREE Live Cool Themes, Hide ...</td>\n",
       "      <td>ART_AND_DESIGN</td>\n",
       "      <td>Art &amp; Design</td>\n",
       "      <td>8700000</td>\n",
       "      <td>0.0</td>\n",
       "      <td>5,000,000+</td>\n",
       "      <td>87510</td>\n",
       "      <td>4.7</td>\n",
       "    </tr>\n",
       "    <tr>\n",
       "      <th>3</th>\n",
       "      <td>Sketch - Draw &amp; Paint</td>\n",
       "      <td>ART_AND_DESIGN</td>\n",
       "      <td>Art &amp; Design</td>\n",
       "      <td>25000000</td>\n",
       "      <td>0.0</td>\n",
       "      <td>50,000,000+</td>\n",
       "      <td>215644</td>\n",
       "      <td>4.5</td>\n",
       "    </tr>\n",
       "    <tr>\n",
       "      <th>4</th>\n",
       "      <td>Pixel Draw - Number Art Coloring Book</td>\n",
       "      <td>ART_AND_DESIGN</td>\n",
       "      <td>Art &amp; Design;Creativity</td>\n",
       "      <td>2800000</td>\n",
       "      <td>0.0</td>\n",
       "      <td>100,000+</td>\n",
       "      <td>967</td>\n",
       "      <td>4.3</td>\n",
       "    </tr>\n",
       "  </tbody>\n",
       "</table>\n",
       "</div>"
      ],
      "text/plain": [
       "                                            app_name        category  \\\n",
       "0     Photo Editor & Candy Camera & Grid & ScrapBook  ART_AND_DESIGN   \n",
       "1                                Coloring book moana  ART_AND_DESIGN   \n",
       "2  U Launcher Lite – FREE Live Cool Themes, Hide ...  ART_AND_DESIGN   \n",
       "3                              Sketch - Draw & Paint  ART_AND_DESIGN   \n",
       "4              Pixel Draw - Number Art Coloring Book  ART_AND_DESIGN   \n",
       "\n",
       "                       genre  size_bytes  price installs_category  \\\n",
       "0               Art & Design    19000000    0.0           10,000+   \n",
       "1  Art & Design;Pretend Play    14000000    0.0          500,000+   \n",
       "2               Art & Design     8700000    0.0        5,000,000+   \n",
       "3               Art & Design    25000000    0.0       50,000,000+   \n",
       "4    Art & Design;Creativity     2800000    0.0          100,000+   \n",
       "\n",
       "   rating_count  rating  \n",
       "0           159     4.1  \n",
       "1           967     3.9  \n",
       "2         87510     4.7  \n",
       "3        215644     4.5  \n",
       "4           967     4.3  "
      ]
     },
     "execution_count": 33,
     "metadata": {},
     "output_type": "execute_result"
    }
   ],
   "source": [
    "google_free = google_crop.copy()[google_crop['price'] == 0]\n",
    "print(google_free.shape)\n",
    "google_free.head()"
   ]
  },
  {
   "cell_type": "code",
   "execution_count": 34,
   "id": "005cf5af",
   "metadata": {},
   "outputs": [
    {
     "data": {
      "text/plain": [
       "False    8905\n",
       "dtype: int64"
      ]
     },
     "execution_count": 34,
     "metadata": {},
     "output_type": "execute_result"
    }
   ],
   "source": [
    "google_free.sort_values(\"rating_count\", ascending=False, inplace=True)\n",
    "google_unique = google_free.drop_duplicates(subset=\"app_name\", keep=\"first\", inplace=False, ignore_index=True)\n",
    "google_unique.duplicated(\"app_name\", keep=False).value_counts()"
   ]
  },
  {
   "cell_type": "code",
   "execution_count": 35,
   "id": "aaf35aec",
   "metadata": {},
   "outputs": [
    {
     "data": {
      "text/plain": [
       "False    7594\n",
       "True     1311\n",
       "Name: rating, dtype: int64"
      ]
     },
     "execution_count": 35,
     "metadata": {},
     "output_type": "execute_result"
    }
   ],
   "source": [
    "google_unique['rating'].isna().value_counts()"
   ]
  },
  {
   "cell_type": "code",
   "execution_count": 36,
   "id": "5b42b990",
   "metadata": {},
   "outputs": [
    {
     "data": {
      "text/plain": [
       "FAMILY                 1693\n",
       "GAME                    863\n",
       "TOOLS                   751\n",
       "BUSINESS                408\n",
       "LIFESTYLE               350\n",
       "PRODUCTIVITY            346\n",
       "FINANCE                 328\n",
       "MEDICAL                 313\n",
       "SPORTS                  301\n",
       "PERSONALIZATION         295\n",
       "COMMUNICATION           288\n",
       "HEALTH_AND_FITNESS      273\n",
       "PHOTOGRAPHY             262\n",
       "NEWS_AND_MAGAZINES      252\n",
       "SOCIAL                  236\n",
       "TRAVEL_AND_LOCAL        207\n",
       "SHOPPING                200\n",
       "BOOKS_AND_REFERENCE     194\n",
       "DATING                  165\n",
       "VIDEO_PLAYERS           160\n",
       "MAPS_AND_NAVIGATION     126\n",
       "FOOD_AND_DRINK          110\n",
       "EDUCATION               103\n",
       "ENTERTAINMENT            84\n",
       "LIBRARIES_AND_DEMO       83\n",
       "AUTO_AND_VEHICLES        82\n",
       "HOUSE_AND_HOME           73\n",
       "WEATHER                  71\n",
       "EVENTS                   63\n",
       "PARENTING                58\n",
       "ART_AND_DESIGN           58\n",
       "COMICS                   56\n",
       "BEAUTY                   53\n",
       "Name: category, dtype: int64"
      ]
     },
     "execution_count": 36,
     "metadata": {},
     "output_type": "execute_result"
    }
   ],
   "source": [
    "google_unique['category'].value_counts()"
   ]
  },
  {
   "cell_type": "code",
   "execution_count": 44,
   "id": "02fe5cd9",
   "metadata": {},
   "outputs": [
    {
     "data": {
      "text/plain": [
       "(1311, 8)"
      ]
     },
     "execution_count": 44,
     "metadata": {},
     "output_type": "execute_result"
    }
   ],
   "source": [
    "google_nan = google_unique.copy()[google_unique['rating'].isna()]\n",
    "google_nan.shape"
   ]
  },
  {
   "cell_type": "code",
   "execution_count": 47,
   "id": "db69d190",
   "metadata": {},
   "outputs": [
    {
     "data": {
      "text/plain": [
       "count    1311.000000\n",
       "mean       19.738368\n",
       "std       148.194805\n",
       "min         0.000000\n",
       "25%         0.000000\n",
       "50%         1.000000\n",
       "75%         5.000000\n",
       "max      3248.000000\n",
       "Name: rating_count, dtype: float64"
      ]
     },
     "execution_count": 47,
     "metadata": {},
     "output_type": "execute_result"
    }
   ],
   "source": [
    "google_nan['rating_count'].describe()"
   ]
  },
  {
   "cell_type": "code",
   "execution_count": 49,
   "id": "b9acc179",
   "metadata": {},
   "outputs": [
    {
     "data": {
      "text/plain": [
       "2.9742612011439467"
      ]
     },
     "execution_count": 49,
     "metadata": {},
     "output_type": "execute_result"
    }
   ],
   "source": [
    "sp.trim_mean(google_nan['rating_count'], 0.1)"
   ]
  },
  {
   "cell_type": "code",
   "execution_count": 57,
   "id": "ea42b5b3",
   "metadata": {},
   "outputs": [
    {
     "data": {
      "text/html": [
       "<div>\n",
       "<style scoped>\n",
       "    .dataframe tbody tr th:only-of-type {\n",
       "        vertical-align: middle;\n",
       "    }\n",
       "\n",
       "    .dataframe tbody tr th {\n",
       "        vertical-align: top;\n",
       "    }\n",
       "\n",
       "    .dataframe thead th {\n",
       "        text-align: right;\n",
       "    }\n",
       "</style>\n",
       "<table border=\"1\" class=\"dataframe\">\n",
       "  <thead>\n",
       "    <tr style=\"text-align: right;\">\n",
       "      <th></th>\n",
       "      <th>app_name</th>\n",
       "      <th>category</th>\n",
       "      <th>genre</th>\n",
       "      <th>size_bytes</th>\n",
       "      <th>price</th>\n",
       "      <th>installs_category</th>\n",
       "      <th>rating_count</th>\n",
       "      <th>rating</th>\n",
       "    </tr>\n",
       "  </thead>\n",
       "  <tbody>\n",
       "    <tr>\n",
       "      <th>3924</th>\n",
       "      <td>We learn children's verses in kindergarten</td>\n",
       "      <td>PARENTING</td>\n",
       "      <td>Parenting;Education</td>\n",
       "      <td>6500000</td>\n",
       "      <td>0.0</td>\n",
       "      <td>100,000+</td>\n",
       "      <td>3248</td>\n",
       "      <td>NaN</td>\n",
       "    </tr>\n",
       "    <tr>\n",
       "      <th>4063</th>\n",
       "      <td>Adivina el Emoji</td>\n",
       "      <td>GAME</td>\n",
       "      <td>Trivia</td>\n",
       "      <td>32000000</td>\n",
       "      <td>0.0</td>\n",
       "      <td>100,000+</td>\n",
       "      <td>2536</td>\n",
       "      <td>NaN</td>\n",
       "    </tr>\n",
       "    <tr>\n",
       "      <th>4152</th>\n",
       "      <td>Young Speeches</td>\n",
       "      <td>LIBRARIES_AND_DEMO</td>\n",
       "      <td>Libraries &amp; Demo</td>\n",
       "      <td>2400000</td>\n",
       "      <td>0.0</td>\n",
       "      <td>500,000+</td>\n",
       "      <td>2221</td>\n",
       "      <td>NaN</td>\n",
       "    </tr>\n",
       "    <tr>\n",
       "      <th>4461</th>\n",
       "      <td>【Ranobbe complete free】 Novelba - Free app tha...</td>\n",
       "      <td>COMICS</td>\n",
       "      <td>Comics</td>\n",
       "      <td>22000000</td>\n",
       "      <td>0.0</td>\n",
       "      <td>50,000+</td>\n",
       "      <td>1330</td>\n",
       "      <td>NaN</td>\n",
       "    </tr>\n",
       "    <tr>\n",
       "      <th>4470</th>\n",
       "      <td>Em Fuga Brasil</td>\n",
       "      <td>FAMILY</td>\n",
       "      <td>Simulation</td>\n",
       "      <td>60000000</td>\n",
       "      <td>0.0</td>\n",
       "      <td>100,000+</td>\n",
       "      <td>1317</td>\n",
       "      <td>NaN</td>\n",
       "    </tr>\n",
       "    <tr>\n",
       "      <th>...</th>\n",
       "      <td>...</td>\n",
       "      <td>...</td>\n",
       "      <td>...</td>\n",
       "      <td>...</td>\n",
       "      <td>...</td>\n",
       "      <td>...</td>\n",
       "      <td>...</td>\n",
       "      <td>...</td>\n",
       "    </tr>\n",
       "    <tr>\n",
       "      <th>6863</th>\n",
       "      <td>BN Pro Battery Level-White</td>\n",
       "      <td>LIBRARIES_AND_DEMO</td>\n",
       "      <td>Libraries &amp; Demo</td>\n",
       "      <td>200000</td>\n",
       "      <td>0.0</td>\n",
       "      <td>5,000+</td>\n",
       "      <td>21</td>\n",
       "      <td>NaN</td>\n",
       "    </tr>\n",
       "    <tr>\n",
       "      <th>6864</th>\n",
       "      <td>中国語 AQリスニング</td>\n",
       "      <td>FAMILY</td>\n",
       "      <td>Education</td>\n",
       "      <td>17000000</td>\n",
       "      <td>0.0</td>\n",
       "      <td>5,000+</td>\n",
       "      <td>21</td>\n",
       "      <td>NaN</td>\n",
       "    </tr>\n",
       "    <tr>\n",
       "      <th>6867</th>\n",
       "      <td>Find Lover</td>\n",
       "      <td>DATING</td>\n",
       "      <td>Dating</td>\n",
       "      <td>4700000</td>\n",
       "      <td>0.0</td>\n",
       "      <td>1,000+</td>\n",
       "      <td>21</td>\n",
       "      <td>NaN</td>\n",
       "    </tr>\n",
       "    <tr>\n",
       "      <th>6871</th>\n",
       "      <td>Handbreit by a.w.niemeyer</td>\n",
       "      <td>NEWS_AND_MAGAZINES</td>\n",
       "      <td>News &amp; Magazines</td>\n",
       "      <td>36000000</td>\n",
       "      <td>0.0</td>\n",
       "      <td>1,000+</td>\n",
       "      <td>21</td>\n",
       "      <td>NaN</td>\n",
       "    </tr>\n",
       "    <tr>\n",
       "      <th>6885</th>\n",
       "      <td>DK Online</td>\n",
       "      <td>FAMILY</td>\n",
       "      <td>Entertainment</td>\n",
       "      <td>3500000</td>\n",
       "      <td>0.0</td>\n",
       "      <td>100+</td>\n",
       "      <td>21</td>\n",
       "      <td>NaN</td>\n",
       "    </tr>\n",
       "  </tbody>\n",
       "</table>\n",
       "<p>135 rows × 8 columns</p>\n",
       "</div>"
      ],
      "text/plain": [
       "                                               app_name            category  \\\n",
       "3924         We learn children's verses in kindergarten           PARENTING   \n",
       "4063                                   Adivina el Emoji                GAME   \n",
       "4152                                     Young Speeches  LIBRARIES_AND_DEMO   \n",
       "4461  【Ranobbe complete free】 Novelba - Free app tha...              COMICS   \n",
       "4470                                     Em Fuga Brasil              FAMILY   \n",
       "...                                                 ...                 ...   \n",
       "6863                         BN Pro Battery Level-White  LIBRARIES_AND_DEMO   \n",
       "6864                                        中国語 AQリスニング              FAMILY   \n",
       "6867                                         Find Lover              DATING   \n",
       "6871                          Handbreit by a.w.niemeyer  NEWS_AND_MAGAZINES   \n",
       "6885                                          DK Online              FAMILY   \n",
       "\n",
       "                    genre  size_bytes  price installs_category  rating_count  \\\n",
       "3924  Parenting;Education     6500000    0.0          100,000+          3248   \n",
       "4063               Trivia    32000000    0.0          100,000+          2536   \n",
       "4152     Libraries & Demo     2400000    0.0          500,000+          2221   \n",
       "4461               Comics    22000000    0.0           50,000+          1330   \n",
       "4470           Simulation    60000000    0.0          100,000+          1317   \n",
       "...                   ...         ...    ...               ...           ...   \n",
       "6863     Libraries & Demo      200000    0.0            5,000+            21   \n",
       "6864            Education    17000000    0.0            5,000+            21   \n",
       "6867               Dating     4700000    0.0            1,000+            21   \n",
       "6871     News & Magazines    36000000    0.0            1,000+            21   \n",
       "6885        Entertainment     3500000    0.0              100+            21   \n",
       "\n",
       "      rating  \n",
       "3924     NaN  \n",
       "4063     NaN  \n",
       "4152     NaN  \n",
       "4461     NaN  \n",
       "4470     NaN  \n",
       "...      ...  \n",
       "6863     NaN  \n",
       "6864     NaN  \n",
       "6867     NaN  \n",
       "6871     NaN  \n",
       "6885     NaN  \n",
       "\n",
       "[135 rows x 8 columns]"
      ]
     },
     "execution_count": 57,
     "metadata": {},
     "output_type": "execute_result"
    }
   ],
   "source": [
    "google_nan[google_nan['rating_count'] > 20]"
   ]
  },
  {
   "cell_type": "code",
   "execution_count": 59,
   "id": "db70544f",
   "metadata": {},
   "outputs": [
    {
     "data": {
      "text/html": [
       "<div>\n",
       "<style scoped>\n",
       "    .dataframe tbody tr th:only-of-type {\n",
       "        vertical-align: middle;\n",
       "    }\n",
       "\n",
       "    .dataframe tbody tr th {\n",
       "        vertical-align: top;\n",
       "    }\n",
       "\n",
       "    .dataframe thead th {\n",
       "        text-align: right;\n",
       "    }\n",
       "</style>\n",
       "<table border=\"1\" class=\"dataframe\">\n",
       "  <thead>\n",
       "    <tr style=\"text-align: right;\">\n",
       "      <th></th>\n",
       "      <th>app_name</th>\n",
       "      <th>category</th>\n",
       "      <th>genre</th>\n",
       "      <th>size_bytes</th>\n",
       "      <th>price</th>\n",
       "      <th>installs_category</th>\n",
       "      <th>rating_count</th>\n",
       "      <th>rating</th>\n",
       "    </tr>\n",
       "  </thead>\n",
       "  <tbody>\n",
       "    <tr>\n",
       "      <th>8151</th>\n",
       "      <td>Katalogen.ax</td>\n",
       "      <td>COMMUNICATION</td>\n",
       "      <td>Communication</td>\n",
       "      <td>172000</td>\n",
       "      <td>0.0</td>\n",
       "      <td>100+</td>\n",
       "      <td>1</td>\n",
       "      <td>NaN</td>\n",
       "    </tr>\n",
       "    <tr>\n",
       "      <th>8152</th>\n",
       "      <td>CA Technologies</td>\n",
       "      <td>FAMILY</td>\n",
       "      <td>Puzzle</td>\n",
       "      <td>98000000</td>\n",
       "      <td>0.0</td>\n",
       "      <td>100+</td>\n",
       "      <td>1</td>\n",
       "      <td>NaN</td>\n",
       "    </tr>\n",
       "    <tr>\n",
       "      <th>8153</th>\n",
       "      <td>AK-47 Assult Rifle: Gun Shooting Simulator Game</td>\n",
       "      <td>GAME</td>\n",
       "      <td>Action</td>\n",
       "      <td>5800000</td>\n",
       "      <td>0.0</td>\n",
       "      <td>500+</td>\n",
       "      <td>1</td>\n",
       "      <td>NaN</td>\n",
       "    </tr>\n",
       "    <tr>\n",
       "      <th>8154</th>\n",
       "      <td>DT CLOTHINGS</td>\n",
       "      <td>SHOPPING</td>\n",
       "      <td>Shopping</td>\n",
       "      <td>7900000</td>\n",
       "      <td>0.0</td>\n",
       "      <td>10+</td>\n",
       "      <td>1</td>\n",
       "      <td>5.0</td>\n",
       "    </tr>\n",
       "    <tr>\n",
       "      <th>8155</th>\n",
       "      <td>DT Health</td>\n",
       "      <td>MEDICAL</td>\n",
       "      <td>Medical</td>\n",
       "      <td>24000000</td>\n",
       "      <td>0.0</td>\n",
       "      <td>10+</td>\n",
       "      <td>1</td>\n",
       "      <td>NaN</td>\n",
       "    </tr>\n",
       "    <tr>\n",
       "      <th>...</th>\n",
       "      <td>...</td>\n",
       "      <td>...</td>\n",
       "      <td>...</td>\n",
       "      <td>...</td>\n",
       "      <td>...</td>\n",
       "      <td>...</td>\n",
       "      <td>...</td>\n",
       "      <td>...</td>\n",
       "    </tr>\n",
       "    <tr>\n",
       "      <th>8900</th>\n",
       "      <td>ai.Bot Box</td>\n",
       "      <td>PRODUCTIVITY</td>\n",
       "      <td>Productivity</td>\n",
       "      <td>0</td>\n",
       "      <td>0.0</td>\n",
       "      <td>10,000+</td>\n",
       "      <td>0</td>\n",
       "      <td>NaN</td>\n",
       "    </tr>\n",
       "    <tr>\n",
       "      <th>8901</th>\n",
       "      <td>DN Advanced Service Coder</td>\n",
       "      <td>BUSINESS</td>\n",
       "      <td>Business</td>\n",
       "      <td>21000000</td>\n",
       "      <td>0.0</td>\n",
       "      <td>10+</td>\n",
       "      <td>0</td>\n",
       "      <td>NaN</td>\n",
       "    </tr>\n",
       "    <tr>\n",
       "      <th>8902</th>\n",
       "      <td>DN Managed Mobility App</td>\n",
       "      <td>BUSINESS</td>\n",
       "      <td>Business</td>\n",
       "      <td>3400000</td>\n",
       "      <td>0.0</td>\n",
       "      <td>50+</td>\n",
       "      <td>0</td>\n",
       "      <td>NaN</td>\n",
       "    </tr>\n",
       "    <tr>\n",
       "      <th>8903</th>\n",
       "      <td>Ultimate DM</td>\n",
       "      <td>FAMILY</td>\n",
       "      <td>Role Playing</td>\n",
       "      <td>0</td>\n",
       "      <td>0.0</td>\n",
       "      <td>10+</td>\n",
       "      <td>0</td>\n",
       "      <td>NaN</td>\n",
       "    </tr>\n",
       "    <tr>\n",
       "      <th>8904</th>\n",
       "      <td>CG 3D Model Viewer: view 3D models interactively</td>\n",
       "      <td>TOOLS</td>\n",
       "      <td>Tools</td>\n",
       "      <td>10000000</td>\n",
       "      <td>0.0</td>\n",
       "      <td>100+</td>\n",
       "      <td>0</td>\n",
       "      <td>NaN</td>\n",
       "    </tr>\n",
       "  </tbody>\n",
       "</table>\n",
       "<p>754 rows × 8 columns</p>\n",
       "</div>"
      ],
      "text/plain": [
       "                                              app_name       category  \\\n",
       "8151                                      Katalogen.ax  COMMUNICATION   \n",
       "8152                                   CA Technologies         FAMILY   \n",
       "8153   AK-47 Assult Rifle: Gun Shooting Simulator Game           GAME   \n",
       "8154                                      DT CLOTHINGS       SHOPPING   \n",
       "8155                                         DT Health        MEDICAL   \n",
       "...                                                ...            ...   \n",
       "8900                                        ai.Bot Box   PRODUCTIVITY   \n",
       "8901                         DN Advanced Service Coder       BUSINESS   \n",
       "8902                           DN Managed Mobility App       BUSINESS   \n",
       "8903                                       Ultimate DM         FAMILY   \n",
       "8904  CG 3D Model Viewer: view 3D models interactively          TOOLS   \n",
       "\n",
       "              genre  size_bytes  price installs_category  rating_count  rating  \n",
       "8151  Communication      172000    0.0              100+             1     NaN  \n",
       "8152         Puzzle    98000000    0.0              100+             1     NaN  \n",
       "8153         Action     5800000    0.0              500+             1     NaN  \n",
       "8154       Shopping     7900000    0.0               10+             1     5.0  \n",
       "8155        Medical    24000000    0.0               10+             1     NaN  \n",
       "...             ...         ...    ...               ...           ...     ...  \n",
       "8900   Productivity           0    0.0           10,000+             0     NaN  \n",
       "8901       Business    21000000    0.0               10+             0     NaN  \n",
       "8902       Business     3400000    0.0               50+             0     NaN  \n",
       "8903   Role Playing           0    0.0               10+             0     NaN  \n",
       "8904          Tools    10000000    0.0              100+             0     NaN  \n",
       "\n",
       "[754 rows x 8 columns]"
      ]
     },
     "execution_count": 59,
     "metadata": {},
     "output_type": "execute_result"
    }
   ],
   "source": [
    "google_unique[google_unique['rating_count'] <= 1]"
   ]
  },
  {
   "cell_type": "code",
   "execution_count": 61,
   "id": "be25a013",
   "metadata": {},
   "outputs": [
    {
     "data": {
      "text/html": [
       "<div>\n",
       "<style scoped>\n",
       "    .dataframe tbody tr th:only-of-type {\n",
       "        vertical-align: middle;\n",
       "    }\n",
       "\n",
       "    .dataframe tbody tr th {\n",
       "        vertical-align: top;\n",
       "    }\n",
       "\n",
       "    .dataframe thead th {\n",
       "        text-align: right;\n",
       "    }\n",
       "</style>\n",
       "<table border=\"1\" class=\"dataframe\">\n",
       "  <thead>\n",
       "    <tr style=\"text-align: right;\">\n",
       "      <th></th>\n",
       "      <th>app_name</th>\n",
       "      <th>category</th>\n",
       "      <th>genre</th>\n",
       "      <th>size_bytes</th>\n",
       "      <th>price</th>\n",
       "      <th>installs_category</th>\n",
       "      <th>rating_count</th>\n",
       "      <th>rating</th>\n",
       "    </tr>\n",
       "  </thead>\n",
       "  <tbody>\n",
       "    <tr>\n",
       "      <th>0</th>\n",
       "      <td>Facebook</td>\n",
       "      <td>SOCIAL</td>\n",
       "      <td>Social</td>\n",
       "      <td>0</td>\n",
       "      <td>0.0</td>\n",
       "      <td>1,000,000,000+</td>\n",
       "      <td>78158306</td>\n",
       "      <td>4.1</td>\n",
       "    </tr>\n",
       "    <tr>\n",
       "      <th>1</th>\n",
       "      <td>WhatsApp Messenger</td>\n",
       "      <td>COMMUNICATION</td>\n",
       "      <td>Communication</td>\n",
       "      <td>0</td>\n",
       "      <td>0.0</td>\n",
       "      <td>1,000,000,000+</td>\n",
       "      <td>69119316</td>\n",
       "      <td>4.4</td>\n",
       "    </tr>\n",
       "    <tr>\n",
       "      <th>2</th>\n",
       "      <td>Instagram</td>\n",
       "      <td>SOCIAL</td>\n",
       "      <td>Social</td>\n",
       "      <td>0</td>\n",
       "      <td>0.0</td>\n",
       "      <td>1,000,000,000+</td>\n",
       "      <td>66577446</td>\n",
       "      <td>4.5</td>\n",
       "    </tr>\n",
       "    <tr>\n",
       "      <th>3</th>\n",
       "      <td>Messenger – Text and Video Chat for Free</td>\n",
       "      <td>COMMUNICATION</td>\n",
       "      <td>Communication</td>\n",
       "      <td>0</td>\n",
       "      <td>0.0</td>\n",
       "      <td>1,000,000,000+</td>\n",
       "      <td>56646578</td>\n",
       "      <td>4.0</td>\n",
       "    </tr>\n",
       "    <tr>\n",
       "      <th>5</th>\n",
       "      <td>Clean Master- Space Cleaner &amp; Antivirus</td>\n",
       "      <td>TOOLS</td>\n",
       "      <td>Tools</td>\n",
       "      <td>0</td>\n",
       "      <td>0.0</td>\n",
       "      <td>500,000,000+</td>\n",
       "      <td>42916526</td>\n",
       "      <td>4.7</td>\n",
       "    </tr>\n",
       "    <tr>\n",
       "      <th>...</th>\n",
       "      <td>...</td>\n",
       "      <td>...</td>\n",
       "      <td>...</td>\n",
       "      <td>...</td>\n",
       "      <td>...</td>\n",
       "      <td>...</td>\n",
       "      <td>...</td>\n",
       "      <td>...</td>\n",
       "    </tr>\n",
       "    <tr>\n",
       "      <th>8865</th>\n",
       "      <td>AJ+ Beta</td>\n",
       "      <td>NEWS_AND_MAGAZINES</td>\n",
       "      <td>News &amp; Magazines</td>\n",
       "      <td>0</td>\n",
       "      <td>0.0</td>\n",
       "      <td>1,000+</td>\n",
       "      <td>0</td>\n",
       "      <td>NaN</td>\n",
       "    </tr>\n",
       "    <tr>\n",
       "      <th>8875</th>\n",
       "      <td>BQ Partners</td>\n",
       "      <td>COMMUNICATION</td>\n",
       "      <td>Communication</td>\n",
       "      <td>0</td>\n",
       "      <td>0.0</td>\n",
       "      <td>1,000+</td>\n",
       "      <td>0</td>\n",
       "      <td>NaN</td>\n",
       "    </tr>\n",
       "    <tr>\n",
       "      <th>8876</th>\n",
       "      <td>Shaggy's DM Assistant</td>\n",
       "      <td>PRODUCTIVITY</td>\n",
       "      <td>Productivity</td>\n",
       "      <td>0</td>\n",
       "      <td>0.0</td>\n",
       "      <td>5+</td>\n",
       "      <td>0</td>\n",
       "      <td>NaN</td>\n",
       "    </tr>\n",
       "    <tr>\n",
       "      <th>8900</th>\n",
       "      <td>ai.Bot Box</td>\n",
       "      <td>PRODUCTIVITY</td>\n",
       "      <td>Productivity</td>\n",
       "      <td>0</td>\n",
       "      <td>0.0</td>\n",
       "      <td>10,000+</td>\n",
       "      <td>0</td>\n",
       "      <td>NaN</td>\n",
       "    </tr>\n",
       "    <tr>\n",
       "      <th>8903</th>\n",
       "      <td>Ultimate DM</td>\n",
       "      <td>FAMILY</td>\n",
       "      <td>Role Playing</td>\n",
       "      <td>0</td>\n",
       "      <td>0.0</td>\n",
       "      <td>10+</td>\n",
       "      <td>0</td>\n",
       "      <td>NaN</td>\n",
       "    </tr>\n",
       "  </tbody>\n",
       "</table>\n",
       "<p>1157 rows × 8 columns</p>\n",
       "</div>"
      ],
      "text/plain": [
       "                                      app_name            category  \\\n",
       "0                                     Facebook              SOCIAL   \n",
       "1                           WhatsApp Messenger       COMMUNICATION   \n",
       "2                                    Instagram              SOCIAL   \n",
       "3     Messenger – Text and Video Chat for Free       COMMUNICATION   \n",
       "5      Clean Master- Space Cleaner & Antivirus               TOOLS   \n",
       "...                                        ...                 ...   \n",
       "8865                                  AJ+ Beta  NEWS_AND_MAGAZINES   \n",
       "8875                               BQ Partners       COMMUNICATION   \n",
       "8876                     Shaggy's DM Assistant        PRODUCTIVITY   \n",
       "8900                                ai.Bot Box        PRODUCTIVITY   \n",
       "8903                               Ultimate DM              FAMILY   \n",
       "\n",
       "                 genre  size_bytes  price installs_category  rating_count  \\\n",
       "0               Social           0    0.0    1,000,000,000+      78158306   \n",
       "1        Communication           0    0.0    1,000,000,000+      69119316   \n",
       "2               Social           0    0.0    1,000,000,000+      66577446   \n",
       "3        Communication           0    0.0    1,000,000,000+      56646578   \n",
       "5                Tools           0    0.0      500,000,000+      42916526   \n",
       "...                ...         ...    ...               ...           ...   \n",
       "8865  News & Magazines           0    0.0            1,000+             0   \n",
       "8875     Communication           0    0.0            1,000+             0   \n",
       "8876      Productivity           0    0.0                5+             0   \n",
       "8900      Productivity           0    0.0           10,000+             0   \n",
       "8903      Role Playing           0    0.0               10+             0   \n",
       "\n",
       "      rating  \n",
       "0        4.1  \n",
       "1        4.4  \n",
       "2        4.5  \n",
       "3        4.0  \n",
       "5        4.7  \n",
       "...      ...  \n",
       "8865     NaN  \n",
       "8875     NaN  \n",
       "8876     NaN  \n",
       "8900     NaN  \n",
       "8903     NaN  \n",
       "\n",
       "[1157 rows x 8 columns]"
      ]
     },
     "execution_count": 61,
     "metadata": {},
     "output_type": "execute_result"
    }
   ],
   "source": [
    "google_unique[google_unique['size_bytes'] == 0]"
   ]
  },
  {
   "cell_type": "code",
   "execution_count": 62,
   "id": "92a9fafd",
   "metadata": {},
   "outputs": [
    {
     "data": {
      "text/html": [
       "<div>\n",
       "<style scoped>\n",
       "    .dataframe tbody tr th:only-of-type {\n",
       "        vertical-align: middle;\n",
       "    }\n",
       "\n",
       "    .dataframe tbody tr th {\n",
       "        vertical-align: top;\n",
       "    }\n",
       "\n",
       "    .dataframe thead th {\n",
       "        text-align: right;\n",
       "    }\n",
       "</style>\n",
       "<table border=\"1\" class=\"dataframe\">\n",
       "  <thead>\n",
       "    <tr style=\"text-align: right;\">\n",
       "      <th></th>\n",
       "      <th>App</th>\n",
       "      <th>Category</th>\n",
       "      <th>Rating</th>\n",
       "      <th>Reviews</th>\n",
       "      <th>Size</th>\n",
       "      <th>Installs</th>\n",
       "      <th>Type</th>\n",
       "      <th>Price</th>\n",
       "      <th>Content Rating</th>\n",
       "      <th>Genres</th>\n",
       "      <th>Last Updated</th>\n",
       "      <th>Current Ver</th>\n",
       "      <th>Android Ver</th>\n",
       "    </tr>\n",
       "  </thead>\n",
       "  <tbody>\n",
       "    <tr>\n",
       "      <th>2544</th>\n",
       "      <td>Facebook</td>\n",
       "      <td>SOCIAL</td>\n",
       "      <td>4.1</td>\n",
       "      <td>78158306</td>\n",
       "      <td>Varies with device</td>\n",
       "      <td>1,000,000,000+</td>\n",
       "      <td>Free</td>\n",
       "      <td>0</td>\n",
       "      <td>Teen</td>\n",
       "      <td>Social</td>\n",
       "      <td>August 3, 2018</td>\n",
       "      <td>Varies with device</td>\n",
       "      <td>Varies with device</td>\n",
       "    </tr>\n",
       "    <tr>\n",
       "      <th>3943</th>\n",
       "      <td>Facebook</td>\n",
       "      <td>SOCIAL</td>\n",
       "      <td>4.1</td>\n",
       "      <td>78128208</td>\n",
       "      <td>Varies with device</td>\n",
       "      <td>1,000,000,000+</td>\n",
       "      <td>Free</td>\n",
       "      <td>0</td>\n",
       "      <td>Teen</td>\n",
       "      <td>Social</td>\n",
       "      <td>August 3, 2018</td>\n",
       "      <td>Varies with device</td>\n",
       "      <td>Varies with device</td>\n",
       "    </tr>\n",
       "  </tbody>\n",
       "</table>\n",
       "</div>"
      ],
      "text/plain": [
       "           App Category  Rating   Reviews                Size        Installs  \\\n",
       "2544  Facebook   SOCIAL     4.1  78158306  Varies with device  1,000,000,000+   \n",
       "3943  Facebook   SOCIAL     4.1  78128208  Varies with device  1,000,000,000+   \n",
       "\n",
       "      Type Price Content Rating  Genres    Last Updated         Current Ver  \\\n",
       "2544  Free     0           Teen  Social  August 3, 2018  Varies with device   \n",
       "3943  Free     0           Teen  Social  August 3, 2018  Varies with device   \n",
       "\n",
       "             Android Ver  \n",
       "2544  Varies with device  \n",
       "3943  Varies with device  "
      ]
     },
     "execution_count": 62,
     "metadata": {},
     "output_type": "execute_result"
    }
   ],
   "source": [
    "google_store[google_store['App'] == \"Facebook\"]"
   ]
  },
  {
   "cell_type": "code",
   "execution_count": null,
   "id": "dec41293",
   "metadata": {},
   "outputs": [],
   "source": []
  },
  {
   "cell_type": "code",
   "execution_count": 38,
   "id": "344f531d",
   "metadata": {},
   "outputs": [
    {
     "data": {
      "text/plain": [
       "FAMILY                 196\n",
       "BUSINESS               154\n",
       "TOOLS                   94\n",
       "MEDICAL                 85\n",
       "LIFESTYLE               67\n",
       "SPORTS                  63\n",
       "PRODUCTIVITY            63\n",
       "PERSONALIZATION         62\n",
       "COMMUNICATION           54\n",
       "NEWS_AND_MAGAZINES      50\n",
       "GAME                    41\n",
       "HEALTH_AND_FITNESS      40\n",
       "FINANCE                 39\n",
       "SOCIAL                  35\n",
       "DATING                  34\n",
       "BOOKS_AND_REFERENCE     33\n",
       "TRAVEL_AND_LOCAL        28\n",
       "SHOPPING                22\n",
       "LIBRARIES_AND_DEMO      19\n",
       "EVENTS                  18\n",
       "FOOD_AND_DRINK          18\n",
       "VIDEO_PLAYERS           15\n",
       "PHOTOGRAPHY             14\n",
       "MAPS_AND_NAVIGATION     13\n",
       "HOUSE_AND_HOME          12\n",
       "BEAUTY                  11\n",
       "PARENTING               10\n",
       "AUTO_AND_VEHICLES       10\n",
       "WEATHER                  6\n",
       "ART_AND_DESIGN           2\n",
       "COMICS                   2\n",
       "EDUCATION                1\n",
       "Name: category, dtype: int64"
      ]
     },
     "execution_count": 38,
     "metadata": {},
     "output_type": "execute_result"
    }
   ],
   "source": [
    "google_nan['category'].value_counts()"
   ]
  },
  {
   "cell_type": "code",
   "execution_count": 39,
   "id": "f7d3aa72",
   "metadata": {},
   "outputs": [
    {
     "data": {
      "text/plain": [
       "1311"
      ]
     },
     "execution_count": 39,
     "metadata": {},
     "output_type": "execute_result"
    }
   ],
   "source": [
    "google_nan['category'].value_counts().sum()"
   ]
  },
  {
   "cell_type": "code",
   "execution_count": 40,
   "id": "444ded6e",
   "metadata": {},
   "outputs": [
    {
     "data": {
      "text/plain": [
       "1197"
      ]
     },
     "execution_count": 40,
     "metadata": {},
     "output_type": "execute_result"
    }
   ],
   "source": [
    "google_nan['category'].value_counts().head(20).sum()"
   ]
  },
  {
   "cell_type": "code",
   "execution_count": 42,
   "id": "5f22ea44",
   "metadata": {},
   "outputs": [
    {
     "data": {
      "image/png": "[encoded data removed]",
      "text/plain": [
       "<Figure size 720x720 with 1 Axes>"
      ]
     },
     "metadata": {},
     "output_type": "display_data"
    }
   ],
   "source": [
    "# plt.style.use('ggplot')\n",
    "\n",
    "gnan_dict = google_nan['category'].value_counts().to_dict()\n",
    "threshold = 20\n",
    "gnan_chart = {}\n",
    "\n",
    "for key, group in itertools.groupby(gnan_dict, lambda k: 'Other' if (gnan_dict[k] < threshold) else k):\n",
    "    gnan_chart[key] = sum([gnan_dict[k] for k in list(group)])   \n",
    "\n",
    "labels = gnan_chart.keys()\n",
    "sizes = gnan_chart.values()\n",
    "colors = np.array(['#d04e85', '#c54f8b', '#ba5190', '#ae5294', '#a25496', '#955698', '#885798', '#7b5897', '#6e5895', '#625892', '#57588e', '#4c5789', '#425683', '#3a547d', '#335276', '#2e506f', '#2b4e67', '#2a4b5f', '#2a4858'])\n",
    "fig, ax = plt.subplots(figsize=(10,10))\n",
    "explosion = [0.1, 0.1, 0.1, 0.1, 0.1, 0.1, 0.1, 0.1, 0.1, 0.1, 0.1, 0.1, 0.1, 0.1, 0.1, 0.1, 0.1, 0.1, 0.1]\n",
    "\n",
    "patches, texts, autotext = ax.pie(sizes, explode=explosion, labels=labels, colors=colors, autopct='%1.1f%%', pctdistance=0.9, labeldistance=1.005, startangle=0, rotatelabels=True)\n",
    "ax.axis('equal')\n",
    "plt.tight_layout()\n",
    "for t in range(len(texts)):\n",
    "    texts[t].set_fontsize(13)\n",
    "    texts[t].set_fontfamily('sans-serif')\n",
    "    \n",
    "for at in range(len(autotext)):\n",
    "    autotext[at].set_fontsize(10)\n",
    "    autotext[at].set_fontfamily('sans-serif')\n",
    "    autotext[at].set_fontweight('bold')\n",
    "    autotext[at].set_color('white')\n",
    "plt.show()\n",
    "\n",
    "# Reference:\n",
    "# https://datascience.stackexchange.com/a/71417"
   ]
  },
  {
   "cell_type": "code",
   "execution_count": null,
   "id": "406d9fd8",
   "metadata": {},
   "outputs": [],
   "source": []
  }
 ],
 "metadata": {
  "kernelspec": {
   "display_name": "Python 3",
   "language": "python",
   "name": "python3"
  },
  "language_info": {
   "codemirror_mode": {
    "name": "ipython",
    "version": 3
   },
   "file_extension": ".py",
   "mimetype": "text/x-python",
   "name": "python",
   "nbconvert_exporter": "python",
   "pygments_lexer": "ipython3",
   "version": "3.8.8"
  }
 },
 "nbformat": 4,
 "nbformat_minor": 5
}
