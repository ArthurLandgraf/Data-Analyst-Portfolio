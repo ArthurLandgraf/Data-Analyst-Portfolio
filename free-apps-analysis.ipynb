{
 "cells": [
  {
   "cell_type": "markdown",
   "source": [
    "#  Title\r\n",
    "## Subtitle"
   ],
   "metadata": {}
  },
  {
   "cell_type": "code",
   "execution_count": 30,
   "source": [
    "import pandas as pd\r\n",
    "import numpy as np\r\n",
    "import matplotlib.pyplot as plt\r\n",
    "%matplotlib inline"
   ],
   "outputs": [],
   "metadata": {}
  },
  {
   "cell_type": "code",
   "execution_count": 31,
   "source": [
    "apple_store = pd.read_csv(\"AppleStore.csv\")\r\n",
    "google_store = pd.read_csv(\"googleplaystore.csv\")"
   ],
   "outputs": [],
   "metadata": {}
  },
  {
   "cell_type": "markdown",
   "source": [
    "## Apple overview"
   ],
   "metadata": {}
  },
  {
   "cell_type": "code",
   "execution_count": 32,
   "source": [
    "print(apple_store.head())"
   ],
   "outputs": [
    {
     "output_type": "stream",
     "name": "stdout",
     "text": [
      "          id               track_name  size_bytes currency  price  \\\n",
      "0  284882215                 Facebook   389879808      USD    0.0   \n",
      "1  389801252                Instagram   113954816      USD    0.0   \n",
      "2  529479190           Clash of Clans   116476928      USD    0.0   \n",
      "3  420009108               Temple Run    65921024      USD    0.0   \n",
      "4  284035177  Pandora - Music & Radio   130242560      USD    0.0   \n",
      "\n",
      "   rating_count_tot  rating_count_ver  user_rating  user_rating_ver      ver  \\\n",
      "0           2974676               212          3.5              3.5     95.0   \n",
      "1           2161558              1289          4.5              4.0    10.23   \n",
      "2           2130805               579          4.5              4.5  9.24.12   \n",
      "3           1724546              3842          4.5              4.0    1.6.2   \n",
      "4           1126879              3594          4.0              4.5    8.4.1   \n",
      "\n",
      "  cont_rating        prime_genre  sup_devices.num  ipadSc_urls.num  lang.num  \\\n",
      "0          4+  Social Networking               37                1        29   \n",
      "1         12+      Photo & Video               37                0        29   \n",
      "2          9+              Games               38                5        18   \n",
      "3          9+              Games               40                5         1   \n",
      "4         12+              Music               37                4         1   \n",
      "\n",
      "   vpp_lic  \n",
      "0        1  \n",
      "1        1  \n",
      "2        1  \n",
      "3        1  \n",
      "4        1  \n"
     ]
    }
   ],
   "metadata": {}
  },
  {
   "cell_type": "code",
   "execution_count": 33,
   "source": [
    "print(apple_store.describe())"
   ],
   "outputs": [
    {
     "output_type": "stream",
     "name": "stdout",
     "text": [
      "                 id    size_bytes        price  rating_count_tot  \\\n",
      "count  7.197000e+03  7.197000e+03  7197.000000      7.197000e+03   \n",
      "mean   8.631310e+08  1.991345e+08     1.726218      1.289291e+04   \n",
      "std    2.712368e+08  3.592069e+08     5.833006      7.573941e+04   \n",
      "min    2.816565e+08  5.898240e+05     0.000000      0.000000e+00   \n",
      "25%    6.000937e+08  4.692275e+07     0.000000      2.800000e+01   \n",
      "50%    9.781482e+08  9.715302e+07     0.000000      3.000000e+02   \n",
      "75%    1.082310e+09  1.819249e+08     1.990000      2.793000e+03   \n",
      "max    1.188376e+09  4.025970e+09   299.990000      2.974676e+06   \n",
      "\n",
      "       rating_count_ver  user_rating  user_rating_ver  sup_devices.num  \\\n",
      "count       7197.000000  7197.000000      7197.000000      7197.000000   \n",
      "mean         460.373906     3.526956         3.253578        37.361817   \n",
      "std         3920.455183     1.517948         1.809363         3.737715   \n",
      "min            0.000000     0.000000         0.000000         9.000000   \n",
      "25%            1.000000     3.500000         2.500000        37.000000   \n",
      "50%           23.000000     4.000000         4.000000        37.000000   \n",
      "75%          140.000000     4.500000         4.500000        38.000000   \n",
      "max       177050.000000     5.000000         5.000000        47.000000   \n",
      "\n",
      "       ipadSc_urls.num     lang.num      vpp_lic  \n",
      "count      7197.000000  7197.000000  7197.000000  \n",
      "mean          3.707100     5.434903     0.993053  \n",
      "std           1.986005     7.919593     0.083066  \n",
      "min           0.000000     0.000000     0.000000  \n",
      "25%           3.000000     1.000000     1.000000  \n",
      "50%           5.000000     1.000000     1.000000  \n",
      "75%           5.000000     8.000000     1.000000  \n",
      "max           5.000000    75.000000     1.000000  \n"
     ]
    }
   ],
   "metadata": {}
  },
  {
   "cell_type": "markdown",
   "source": [
    "## Google overview"
   ],
   "metadata": {}
  },
  {
   "cell_type": "code",
   "execution_count": 34,
   "source": [
    "print(google_store.head())"
   ],
   "outputs": [
    {
     "output_type": "stream",
     "name": "stdout",
     "text": [
      "                                                 App        Category  Rating  \\\n",
      "0     Photo Editor & Candy Camera & Grid & ScrapBook  ART_AND_DESIGN     4.1   \n",
      "1                                Coloring book moana  ART_AND_DESIGN     3.9   \n",
      "2  U Launcher Lite – FREE Live Cool Themes, Hide ...  ART_AND_DESIGN     4.7   \n",
      "3                              Sketch - Draw & Paint  ART_AND_DESIGN     4.5   \n",
      "4              Pixel Draw - Number Art Coloring Book  ART_AND_DESIGN     4.3   \n",
      "\n",
      "  Reviews  Size     Installs  Type Price Content Rating  \\\n",
      "0     159   19M      10,000+  Free     0       Everyone   \n",
      "1     967   14M     500,000+  Free     0       Everyone   \n",
      "2   87510  8.7M   5,000,000+  Free     0       Everyone   \n",
      "3  215644   25M  50,000,000+  Free     0           Teen   \n",
      "4     967  2.8M     100,000+  Free     0       Everyone   \n",
      "\n",
      "                      Genres      Last Updated         Current Ver  \\\n",
      "0               Art & Design   January 7, 2018               1.0.0   \n",
      "1  Art & Design;Pretend Play  January 15, 2018               2.0.0   \n",
      "2               Art & Design    August 1, 2018               1.2.4   \n",
      "3               Art & Design      June 8, 2018  Varies with device   \n",
      "4    Art & Design;Creativity     June 20, 2018                 1.1   \n",
      "\n",
      "    Android Ver  \n",
      "0  4.0.3 and up  \n",
      "1  4.0.3 and up  \n",
      "2  4.0.3 and up  \n",
      "3    4.2 and up  \n",
      "4    4.4 and up  \n"
     ]
    }
   ],
   "metadata": {}
  },
  {
   "cell_type": "code",
   "execution_count": 35,
   "source": [
    "print(google_store.describe())"
   ],
   "outputs": [
    {
     "output_type": "stream",
     "name": "stdout",
     "text": [
      "            Rating\n",
      "count  9367.000000\n",
      "mean      4.193338\n",
      "std       0.537431\n",
      "min       1.000000\n",
      "25%       4.000000\n",
      "50%       4.300000\n",
      "75%       4.500000\n",
      "max      19.000000\n"
     ]
    }
   ],
   "metadata": {}
  },
  {
   "cell_type": "markdown",
   "source": [
    "## Comparing columns"
   ],
   "metadata": {}
  },
  {
   "cell_type": "code",
   "execution_count": 36,
   "source": [
    "print(apple_store.columns)"
   ],
   "outputs": [
    {
     "output_type": "stream",
     "name": "stdout",
     "text": [
      "Index(['id', 'track_name', 'size_bytes', 'currency', 'price',\n",
      "       'rating_count_tot', 'rating_count_ver', 'user_rating',\n",
      "       'user_rating_ver', 'ver', 'cont_rating', 'prime_genre',\n",
      "       'sup_devices.num', 'ipadSc_urls.num', 'lang.num', 'vpp_lic'],\n",
      "      dtype='object')\n"
     ]
    }
   ],
   "metadata": {}
  },
  {
   "cell_type": "code",
   "execution_count": 37,
   "source": [
    "print(google_store.columns)"
   ],
   "outputs": [
    {
     "output_type": "stream",
     "name": "stdout",
     "text": [
      "Index(['App', 'Category', 'Rating', 'Reviews', 'Size', 'Installs', 'Type',\n",
      "       'Price', 'Content Rating', 'Genres', 'Last Updated', 'Current Ver',\n",
      "       'Android Ver'],\n",
      "      dtype='object')\n"
     ]
    }
   ],
   "metadata": {}
  },
  {
   "cell_type": "markdown",
   "source": [
    "The analysis is going to focus on free apps, and the end of the cleaning process is going to be a merge of these two datasets. So based on the column analysis these are the key <span style=\"color:green\">**properties to keep**</span> in order to have a consistent merged file:\r\n",
    "- Origin (Apple or Google)\r\n",
    "- App Name\r\n",
    "- App Size (bytes)\r\n",
    "- Count of total Ratings\r\n",
    "- Ratings (total)\r\n",
    "- Genre/Prime Genre\r\n",
    "- Price\r\n",
    "\r\n",
    "Here's the explanation of why other properties will be <span style=\"color:red\">**dropped**</span>:\r\n",
    "- **Category** - That is only present in Google Play Store and its a broader description than Genres, so I keep the last one to be more specific.\r\n",
    "- **Installs** - It would be lovely to have this data from Apple Store, but as I only have it for Google, we'll count the users through the ratings which are present in both.\r\n",
    "- **Related to Versions** - Apple is more specific in splitting data from previous versions, to current version. But as our objective is to merge, we will just use the Total property.\r\n",
    "- **Related to Devices/Softwares** - Although both relatively have info about it, the conclusions we aim are not related to anything technical, so this will be discarted."
   ],
   "metadata": {}
  },
  {
   "cell_type": "markdown",
   "source": [
    "## Cleaning Apple Store data"
   ],
   "metadata": {}
  },
  {
   "cell_type": "code",
   "execution_count": 38,
   "source": [
    "apple_crop = apple_store.copy()[[\"id\", \"track_name\", \"prime_genre\", \"size_bytes\", \"price\", \"rating_count_tot\", \"user_rating\"]]\r\n",
    "apple_crop.head()"
   ],
   "outputs": [
    {
     "output_type": "execute_result",
     "data": {
      "text/html": [
       "<div>\n",
       "<style scoped>\n",
       "    .dataframe tbody tr th:only-of-type {\n",
       "        vertical-align: middle;\n",
       "    }\n",
       "\n",
       "    .dataframe tbody tr th {\n",
       "        vertical-align: top;\n",
       "    }\n",
       "\n",
       "    .dataframe thead th {\n",
       "        text-align: right;\n",
       "    }\n",
       "</style>\n",
       "<table border=\"1\" class=\"dataframe\">\n",
       "  <thead>\n",
       "    <tr style=\"text-align: right;\">\n",
       "      <th></th>\n",
       "      <th>id</th>\n",
       "      <th>track_name</th>\n",
       "      <th>prime_genre</th>\n",
       "      <th>size_bytes</th>\n",
       "      <th>price</th>\n",
       "      <th>rating_count_tot</th>\n",
       "      <th>user_rating</th>\n",
       "    </tr>\n",
       "  </thead>\n",
       "  <tbody>\n",
       "    <tr>\n",
       "      <th>0</th>\n",
       "      <td>284882215</td>\n",
       "      <td>Facebook</td>\n",
       "      <td>Social Networking</td>\n",
       "      <td>389879808</td>\n",
       "      <td>0.0</td>\n",
       "      <td>2974676</td>\n",
       "      <td>3.5</td>\n",
       "    </tr>\n",
       "    <tr>\n",
       "      <th>1</th>\n",
       "      <td>389801252</td>\n",
       "      <td>Instagram</td>\n",
       "      <td>Photo &amp; Video</td>\n",
       "      <td>113954816</td>\n",
       "      <td>0.0</td>\n",
       "      <td>2161558</td>\n",
       "      <td>4.5</td>\n",
       "    </tr>\n",
       "    <tr>\n",
       "      <th>2</th>\n",
       "      <td>529479190</td>\n",
       "      <td>Clash of Clans</td>\n",
       "      <td>Games</td>\n",
       "      <td>116476928</td>\n",
       "      <td>0.0</td>\n",
       "      <td>2130805</td>\n",
       "      <td>4.5</td>\n",
       "    </tr>\n",
       "    <tr>\n",
       "      <th>3</th>\n",
       "      <td>420009108</td>\n",
       "      <td>Temple Run</td>\n",
       "      <td>Games</td>\n",
       "      <td>65921024</td>\n",
       "      <td>0.0</td>\n",
       "      <td>1724546</td>\n",
       "      <td>4.5</td>\n",
       "    </tr>\n",
       "    <tr>\n",
       "      <th>4</th>\n",
       "      <td>284035177</td>\n",
       "      <td>Pandora - Music &amp; Radio</td>\n",
       "      <td>Music</td>\n",
       "      <td>130242560</td>\n",
       "      <td>0.0</td>\n",
       "      <td>1126879</td>\n",
       "      <td>4.0</td>\n",
       "    </tr>\n",
       "  </tbody>\n",
       "</table>\n",
       "</div>"
      ],
      "text/plain": [
       "          id               track_name        prime_genre  size_bytes  price  \\\n",
       "0  284882215                 Facebook  Social Networking   389879808    0.0   \n",
       "1  389801252                Instagram      Photo & Video   113954816    0.0   \n",
       "2  529479190           Clash of Clans              Games   116476928    0.0   \n",
       "3  420009108               Temple Run              Games    65921024    0.0   \n",
       "4  284035177  Pandora - Music & Radio              Music   130242560    0.0   \n",
       "\n",
       "   rating_count_tot  user_rating  \n",
       "0           2974676          3.5  \n",
       "1           2161558          4.5  \n",
       "2           2130805          4.5  \n",
       "3           1724546          4.5  \n",
       "4           1126879          4.0  "
      ]
     },
     "metadata": {},
     "execution_count": 38
    }
   ],
   "metadata": {}
  },
  {
   "cell_type": "code",
   "execution_count": 39,
   "source": [
    "apple_crop.columns = [\"id\", \"app_name\", \"genre\", \"size_bytes\", \"price\", \"rating_count\", \"rating\"]\r\n",
    "apple_crop.head()"
   ],
   "outputs": [
    {
     "output_type": "execute_result",
     "data": {
      "text/html": [
       "<div>\n",
       "<style scoped>\n",
       "    .dataframe tbody tr th:only-of-type {\n",
       "        vertical-align: middle;\n",
       "    }\n",
       "\n",
       "    .dataframe tbody tr th {\n",
       "        vertical-align: top;\n",
       "    }\n",
       "\n",
       "    .dataframe thead th {\n",
       "        text-align: right;\n",
       "    }\n",
       "</style>\n",
       "<table border=\"1\" class=\"dataframe\">\n",
       "  <thead>\n",
       "    <tr style=\"text-align: right;\">\n",
       "      <th></th>\n",
       "      <th>id</th>\n",
       "      <th>app_name</th>\n",
       "      <th>genre</th>\n",
       "      <th>size_bytes</th>\n",
       "      <th>price</th>\n",
       "      <th>rating_count</th>\n",
       "      <th>rating</th>\n",
       "    </tr>\n",
       "  </thead>\n",
       "  <tbody>\n",
       "    <tr>\n",
       "      <th>0</th>\n",
       "      <td>284882215</td>\n",
       "      <td>Facebook</td>\n",
       "      <td>Social Networking</td>\n",
       "      <td>389879808</td>\n",
       "      <td>0.0</td>\n",
       "      <td>2974676</td>\n",
       "      <td>3.5</td>\n",
       "    </tr>\n",
       "    <tr>\n",
       "      <th>1</th>\n",
       "      <td>389801252</td>\n",
       "      <td>Instagram</td>\n",
       "      <td>Photo &amp; Video</td>\n",
       "      <td>113954816</td>\n",
       "      <td>0.0</td>\n",
       "      <td>2161558</td>\n",
       "      <td>4.5</td>\n",
       "    </tr>\n",
       "    <tr>\n",
       "      <th>2</th>\n",
       "      <td>529479190</td>\n",
       "      <td>Clash of Clans</td>\n",
       "      <td>Games</td>\n",
       "      <td>116476928</td>\n",
       "      <td>0.0</td>\n",
       "      <td>2130805</td>\n",
       "      <td>4.5</td>\n",
       "    </tr>\n",
       "    <tr>\n",
       "      <th>3</th>\n",
       "      <td>420009108</td>\n",
       "      <td>Temple Run</td>\n",
       "      <td>Games</td>\n",
       "      <td>65921024</td>\n",
       "      <td>0.0</td>\n",
       "      <td>1724546</td>\n",
       "      <td>4.5</td>\n",
       "    </tr>\n",
       "    <tr>\n",
       "      <th>4</th>\n",
       "      <td>284035177</td>\n",
       "      <td>Pandora - Music &amp; Radio</td>\n",
       "      <td>Music</td>\n",
       "      <td>130242560</td>\n",
       "      <td>0.0</td>\n",
       "      <td>1126879</td>\n",
       "      <td>4.0</td>\n",
       "    </tr>\n",
       "  </tbody>\n",
       "</table>\n",
       "</div>"
      ],
      "text/plain": [
       "          id                 app_name              genre  size_bytes  price  \\\n",
       "0  284882215                 Facebook  Social Networking   389879808    0.0   \n",
       "1  389801252                Instagram      Photo & Video   113954816    0.0   \n",
       "2  529479190           Clash of Clans              Games   116476928    0.0   \n",
       "3  420009108               Temple Run              Games    65921024    0.0   \n",
       "4  284035177  Pandora - Music & Radio              Music   130242560    0.0   \n",
       "\n",
       "   rating_count  rating  \n",
       "0       2974676     3.5  \n",
       "1       2161558     4.5  \n",
       "2       2130805     4.5  \n",
       "3       1724546     4.5  \n",
       "4       1126879     4.0  "
      ]
     },
     "metadata": {},
     "execution_count": 39
    }
   ],
   "metadata": {}
  },
  {
   "cell_type": "code",
   "execution_count": 40,
   "source": [
    "apple_crop[\"price\"].value_counts()"
   ],
   "outputs": [
    {
     "output_type": "execute_result",
     "data": {
      "text/plain": [
       "0.00      4056\n",
       "0.99       728\n",
       "2.99       683\n",
       "1.99       621\n",
       "4.99       394\n",
       "3.99       277\n",
       "6.99       166\n",
       "9.99        81\n",
       "5.99        52\n",
       "7.99        33\n",
       "14.99       21\n",
       "19.99       13\n",
       "8.99         9\n",
       "24.99        8\n",
       "11.99        6\n",
       "29.99        6\n",
       "13.99        6\n",
       "12.99        5\n",
       "15.99        4\n",
       "17.99        3\n",
       "59.99        3\n",
       "27.99        2\n",
       "23.99        2\n",
       "22.99        2\n",
       "20.99        2\n",
       "49.99        2\n",
       "16.99        2\n",
       "39.99        2\n",
       "249.99       1\n",
       "74.99        1\n",
       "18.99        1\n",
       "99.99        1\n",
       "21.99        1\n",
       "34.99        1\n",
       "299.99       1\n",
       "47.99        1\n",
       "Name: price, dtype: int64"
      ]
     },
     "metadata": {},
     "execution_count": 40
    }
   ],
   "metadata": {}
  },
  {
   "cell_type": "code",
   "execution_count": 41,
   "source": [
    "apple_free = apple_crop.copy()[apple_crop['price'] == 0]\r\n",
    "print(apple_free.shape)\r\n",
    "apple_free.head()"
   ],
   "outputs": [
    {
     "output_type": "stream",
     "name": "stdout",
     "text": [
      "(4056, 7)\n"
     ]
    },
    {
     "output_type": "execute_result",
     "data": {
      "text/html": [
       "<div>\n",
       "<style scoped>\n",
       "    .dataframe tbody tr th:only-of-type {\n",
       "        vertical-align: middle;\n",
       "    }\n",
       "\n",
       "    .dataframe tbody tr th {\n",
       "        vertical-align: top;\n",
       "    }\n",
       "\n",
       "    .dataframe thead th {\n",
       "        text-align: right;\n",
       "    }\n",
       "</style>\n",
       "<table border=\"1\" class=\"dataframe\">\n",
       "  <thead>\n",
       "    <tr style=\"text-align: right;\">\n",
       "      <th></th>\n",
       "      <th>id</th>\n",
       "      <th>app_name</th>\n",
       "      <th>genre</th>\n",
       "      <th>size_bytes</th>\n",
       "      <th>price</th>\n",
       "      <th>rating_count</th>\n",
       "      <th>rating</th>\n",
       "    </tr>\n",
       "  </thead>\n",
       "  <tbody>\n",
       "    <tr>\n",
       "      <th>0</th>\n",
       "      <td>284882215</td>\n",
       "      <td>Facebook</td>\n",
       "      <td>Social Networking</td>\n",
       "      <td>389879808</td>\n",
       "      <td>0.0</td>\n",
       "      <td>2974676</td>\n",
       "      <td>3.5</td>\n",
       "    </tr>\n",
       "    <tr>\n",
       "      <th>1</th>\n",
       "      <td>389801252</td>\n",
       "      <td>Instagram</td>\n",
       "      <td>Photo &amp; Video</td>\n",
       "      <td>113954816</td>\n",
       "      <td>0.0</td>\n",
       "      <td>2161558</td>\n",
       "      <td>4.5</td>\n",
       "    </tr>\n",
       "    <tr>\n",
       "      <th>2</th>\n",
       "      <td>529479190</td>\n",
       "      <td>Clash of Clans</td>\n",
       "      <td>Games</td>\n",
       "      <td>116476928</td>\n",
       "      <td>0.0</td>\n",
       "      <td>2130805</td>\n",
       "      <td>4.5</td>\n",
       "    </tr>\n",
       "    <tr>\n",
       "      <th>3</th>\n",
       "      <td>420009108</td>\n",
       "      <td>Temple Run</td>\n",
       "      <td>Games</td>\n",
       "      <td>65921024</td>\n",
       "      <td>0.0</td>\n",
       "      <td>1724546</td>\n",
       "      <td>4.5</td>\n",
       "    </tr>\n",
       "    <tr>\n",
       "      <th>4</th>\n",
       "      <td>284035177</td>\n",
       "      <td>Pandora - Music &amp; Radio</td>\n",
       "      <td>Music</td>\n",
       "      <td>130242560</td>\n",
       "      <td>0.0</td>\n",
       "      <td>1126879</td>\n",
       "      <td>4.0</td>\n",
       "    </tr>\n",
       "  </tbody>\n",
       "</table>\n",
       "</div>"
      ],
      "text/plain": [
       "          id                 app_name              genre  size_bytes  price  \\\n",
       "0  284882215                 Facebook  Social Networking   389879808    0.0   \n",
       "1  389801252                Instagram      Photo & Video   113954816    0.0   \n",
       "2  529479190           Clash of Clans              Games   116476928    0.0   \n",
       "3  420009108               Temple Run              Games    65921024    0.0   \n",
       "4  284035177  Pandora - Music & Radio              Music   130242560    0.0   \n",
       "\n",
       "   rating_count  rating  \n",
       "0       2974676     3.5  \n",
       "1       2161558     4.5  \n",
       "2       2130805     4.5  \n",
       "3       1724546     4.5  \n",
       "4       1126879     4.0  "
      ]
     },
     "metadata": {},
     "execution_count": 41
    }
   ],
   "metadata": {}
  },
  {
   "cell_type": "code",
   "execution_count": 42,
   "source": [
    "apple_free.describe()"
   ],
   "outputs": [
    {
     "output_type": "execute_result",
     "data": {
      "text/html": [
       "<div>\n",
       "<style scoped>\n",
       "    .dataframe tbody tr th:only-of-type {\n",
       "        vertical-align: middle;\n",
       "    }\n",
       "\n",
       "    .dataframe tbody tr th {\n",
       "        vertical-align: top;\n",
       "    }\n",
       "\n",
       "    .dataframe thead th {\n",
       "        text-align: right;\n",
       "    }\n",
       "</style>\n",
       "<table border=\"1\" class=\"dataframe\">\n",
       "  <thead>\n",
       "    <tr style=\"text-align: right;\">\n",
       "      <th></th>\n",
       "      <th>id</th>\n",
       "      <th>size_bytes</th>\n",
       "      <th>price</th>\n",
       "      <th>rating_count</th>\n",
       "      <th>rating</th>\n",
       "    </tr>\n",
       "  </thead>\n",
       "  <tbody>\n",
       "    <tr>\n",
       "      <th>count</th>\n",
       "      <td>4.056000e+03</td>\n",
       "      <td>4.056000e+03</td>\n",
       "      <td>4056.0</td>\n",
       "      <td>4.056000e+03</td>\n",
       "      <td>4056.000000</td>\n",
       "    </tr>\n",
       "    <tr>\n",
       "      <th>mean</th>\n",
       "      <td>8.991647e+08</td>\n",
       "      <td>1.479357e+08</td>\n",
       "      <td>0.0</td>\n",
       "      <td>1.974980e+04</td>\n",
       "      <td>3.376726</td>\n",
       "    </tr>\n",
       "    <tr>\n",
       "      <th>std</th>\n",
       "      <td>2.583709e+08</td>\n",
       "      <td>2.089014e+08</td>\n",
       "      <td>0.0</td>\n",
       "      <td>9.774428e+04</td>\n",
       "      <td>1.644807</td>\n",
       "    </tr>\n",
       "    <tr>\n",
       "      <th>min</th>\n",
       "      <td>2.817961e+08</td>\n",
       "      <td>7.671260e+05</td>\n",
       "      <td>0.0</td>\n",
       "      <td>0.000000e+00</td>\n",
       "      <td>0.000000</td>\n",
       "    </tr>\n",
       "    <tr>\n",
       "      <th>25%</th>\n",
       "      <td>7.008908e+08</td>\n",
       "      <td>5.404134e+07</td>\n",
       "      <td>0.0</td>\n",
       "      <td>2.200000e+01</td>\n",
       "      <td>3.000000</td>\n",
       "    </tr>\n",
       "    <tr>\n",
       "      <th>50%</th>\n",
       "      <td>1.014135e+09</td>\n",
       "      <td>9.960038e+07</td>\n",
       "      <td>0.0</td>\n",
       "      <td>4.660000e+02</td>\n",
       "      <td>4.000000</td>\n",
       "    </tr>\n",
       "    <tr>\n",
       "      <th>75%</th>\n",
       "      <td>1.091131e+09</td>\n",
       "      <td>1.611986e+08</td>\n",
       "      <td>0.0</td>\n",
       "      <td>5.450750e+03</td>\n",
       "      <td>4.500000</td>\n",
       "    </tr>\n",
       "    <tr>\n",
       "      <th>max</th>\n",
       "      <td>1.188376e+09</td>\n",
       "      <td>3.148421e+09</td>\n",
       "      <td>0.0</td>\n",
       "      <td>2.974676e+06</td>\n",
       "      <td>5.000000</td>\n",
       "    </tr>\n",
       "  </tbody>\n",
       "</table>\n",
       "</div>"
      ],
      "text/plain": [
       "                 id    size_bytes   price  rating_count       rating\n",
       "count  4.056000e+03  4.056000e+03  4056.0  4.056000e+03  4056.000000\n",
       "mean   8.991647e+08  1.479357e+08     0.0  1.974980e+04     3.376726\n",
       "std    2.583709e+08  2.089014e+08     0.0  9.774428e+04     1.644807\n",
       "min    2.817961e+08  7.671260e+05     0.0  0.000000e+00     0.000000\n",
       "25%    7.008908e+08  5.404134e+07     0.0  2.200000e+01     3.000000\n",
       "50%    1.014135e+09  9.960038e+07     0.0  4.660000e+02     4.000000\n",
       "75%    1.091131e+09  1.611986e+08     0.0  5.450750e+03     4.500000\n",
       "max    1.188376e+09  3.148421e+09     0.0  2.974676e+06     5.000000"
      ]
     },
     "metadata": {},
     "execution_count": 42
    }
   ],
   "metadata": {}
  },
  {
   "cell_type": "code",
   "execution_count": 43,
   "source": [
    "apple_free.isna().describe()"
   ],
   "outputs": [
    {
     "output_type": "execute_result",
     "data": {
      "text/html": [
       "<div>\n",
       "<style scoped>\n",
       "    .dataframe tbody tr th:only-of-type {\n",
       "        vertical-align: middle;\n",
       "    }\n",
       "\n",
       "    .dataframe tbody tr th {\n",
       "        vertical-align: top;\n",
       "    }\n",
       "\n",
       "    .dataframe thead th {\n",
       "        text-align: right;\n",
       "    }\n",
       "</style>\n",
       "<table border=\"1\" class=\"dataframe\">\n",
       "  <thead>\n",
       "    <tr style=\"text-align: right;\">\n",
       "      <th></th>\n",
       "      <th>id</th>\n",
       "      <th>app_name</th>\n",
       "      <th>genre</th>\n",
       "      <th>size_bytes</th>\n",
       "      <th>price</th>\n",
       "      <th>rating_count</th>\n",
       "      <th>rating</th>\n",
       "    </tr>\n",
       "  </thead>\n",
       "  <tbody>\n",
       "    <tr>\n",
       "      <th>count</th>\n",
       "      <td>4056</td>\n",
       "      <td>4056</td>\n",
       "      <td>4056</td>\n",
       "      <td>4056</td>\n",
       "      <td>4056</td>\n",
       "      <td>4056</td>\n",
       "      <td>4056</td>\n",
       "    </tr>\n",
       "    <tr>\n",
       "      <th>unique</th>\n",
       "      <td>1</td>\n",
       "      <td>1</td>\n",
       "      <td>1</td>\n",
       "      <td>1</td>\n",
       "      <td>1</td>\n",
       "      <td>1</td>\n",
       "      <td>1</td>\n",
       "    </tr>\n",
       "    <tr>\n",
       "      <th>top</th>\n",
       "      <td>False</td>\n",
       "      <td>False</td>\n",
       "      <td>False</td>\n",
       "      <td>False</td>\n",
       "      <td>False</td>\n",
       "      <td>False</td>\n",
       "      <td>False</td>\n",
       "    </tr>\n",
       "    <tr>\n",
       "      <th>freq</th>\n",
       "      <td>4056</td>\n",
       "      <td>4056</td>\n",
       "      <td>4056</td>\n",
       "      <td>4056</td>\n",
       "      <td>4056</td>\n",
       "      <td>4056</td>\n",
       "      <td>4056</td>\n",
       "    </tr>\n",
       "  </tbody>\n",
       "</table>\n",
       "</div>"
      ],
      "text/plain": [
       "           id app_name  genre size_bytes  price rating_count rating\n",
       "count    4056     4056   4056       4056   4056         4056   4056\n",
       "unique      1        1      1          1      1            1      1\n",
       "top     False    False  False      False  False        False  False\n",
       "freq     4056     4056   4056       4056   4056         4056   4056"
      ]
     },
     "metadata": {},
     "execution_count": 43
    }
   ],
   "metadata": {}
  },
  {
   "cell_type": "code",
   "execution_count": 44,
   "source": [
    "apple_free.duplicated(\"app_name\", keep=False).value_counts()"
   ],
   "outputs": [
    {
     "output_type": "execute_result",
     "data": {
      "text/plain": [
       "False    4052\n",
       "True        4\n",
       "dtype: int64"
      ]
     },
     "metadata": {},
     "execution_count": 44
    }
   ],
   "metadata": {}
  },
  {
   "cell_type": "code",
   "execution_count": 45,
   "source": [
    "apple_free[apple_free.duplicated(\"app_name\", keep=False)]"
   ],
   "outputs": [
    {
     "output_type": "execute_result",
     "data": {
      "text/html": [
       "<div>\n",
       "<style scoped>\n",
       "    .dataframe tbody tr th:only-of-type {\n",
       "        vertical-align: middle;\n",
       "    }\n",
       "\n",
       "    .dataframe tbody tr th {\n",
       "        vertical-align: top;\n",
       "    }\n",
       "\n",
       "    .dataframe thead th {\n",
       "        text-align: right;\n",
       "    }\n",
       "</style>\n",
       "<table border=\"1\" class=\"dataframe\">\n",
       "  <thead>\n",
       "    <tr style=\"text-align: right;\">\n",
       "      <th></th>\n",
       "      <th>id</th>\n",
       "      <th>app_name</th>\n",
       "      <th>genre</th>\n",
       "      <th>size_bytes</th>\n",
       "      <th>price</th>\n",
       "      <th>rating_count</th>\n",
       "      <th>rating</th>\n",
       "    </tr>\n",
       "  </thead>\n",
       "  <tbody>\n",
       "    <tr>\n",
       "      <th>2948</th>\n",
       "      <td>1173990889</td>\n",
       "      <td>Mannequin Challenge</td>\n",
       "      <td>Games</td>\n",
       "      <td>109705216</td>\n",
       "      <td>0.0</td>\n",
       "      <td>668</td>\n",
       "      <td>3.0</td>\n",
       "    </tr>\n",
       "    <tr>\n",
       "      <th>4442</th>\n",
       "      <td>952877179</td>\n",
       "      <td>VR Roller Coaster</td>\n",
       "      <td>Games</td>\n",
       "      <td>169523200</td>\n",
       "      <td>0.0</td>\n",
       "      <td>107</td>\n",
       "      <td>3.5</td>\n",
       "    </tr>\n",
       "    <tr>\n",
       "      <th>4463</th>\n",
       "      <td>1178454060</td>\n",
       "      <td>Mannequin Challenge</td>\n",
       "      <td>Games</td>\n",
       "      <td>59572224</td>\n",
       "      <td>0.0</td>\n",
       "      <td>105</td>\n",
       "      <td>4.0</td>\n",
       "    </tr>\n",
       "    <tr>\n",
       "      <th>4831</th>\n",
       "      <td>1089824278</td>\n",
       "      <td>VR Roller Coaster</td>\n",
       "      <td>Games</td>\n",
       "      <td>240964608</td>\n",
       "      <td>0.0</td>\n",
       "      <td>67</td>\n",
       "      <td>3.5</td>\n",
       "    </tr>\n",
       "  </tbody>\n",
       "</table>\n",
       "</div>"
      ],
      "text/plain": [
       "              id             app_name  genre  size_bytes  price  rating_count  \\\n",
       "2948  1173990889  Mannequin Challenge  Games   109705216    0.0           668   \n",
       "4442   952877179    VR Roller Coaster  Games   169523200    0.0           107   \n",
       "4463  1178454060  Mannequin Challenge  Games    59572224    0.0           105   \n",
       "4831  1089824278    VR Roller Coaster  Games   240964608    0.0            67   \n",
       "\n",
       "      rating  \n",
       "2948     3.0  \n",
       "4442     3.5  \n",
       "4463     4.0  \n",
       "4831     3.5  "
      ]
     },
     "metadata": {},
     "execution_count": 45
    }
   ],
   "metadata": {}
  },
  {
   "cell_type": "code",
   "execution_count": 46,
   "source": [
    "apple_free.sort_values(\"rating_count\", ascending=False, inplace=True)\r\n",
    "apple_unique = apple_free.drop_duplicates(subset=\"app_name\", keep=\"first\", inplace=False, ignore_index=True)\r\n",
    "apple_unique.duplicated(\"app_name\", keep=False).value_counts()"
   ],
   "outputs": [
    {
     "output_type": "execute_result",
     "data": {
      "text/plain": [
       "False    4054\n",
       "dtype: int64"
      ]
     },
     "metadata": {},
     "execution_count": 46
    }
   ],
   "metadata": {}
  },
  {
   "cell_type": "code",
   "execution_count": 47,
   "source": [
    "apple_unique[apple_unique['app_name'] == \"VR Roller Coaster\"]"
   ],
   "outputs": [
    {
     "output_type": "execute_result",
     "data": {
      "text/html": [
       "<div>\n",
       "<style scoped>\n",
       "    .dataframe tbody tr th:only-of-type {\n",
       "        vertical-align: middle;\n",
       "    }\n",
       "\n",
       "    .dataframe tbody tr th {\n",
       "        vertical-align: top;\n",
       "    }\n",
       "\n",
       "    .dataframe thead th {\n",
       "        text-align: right;\n",
       "    }\n",
       "</style>\n",
       "<table border=\"1\" class=\"dataframe\">\n",
       "  <thead>\n",
       "    <tr style=\"text-align: right;\">\n",
       "      <th></th>\n",
       "      <th>id</th>\n",
       "      <th>app_name</th>\n",
       "      <th>genre</th>\n",
       "      <th>size_bytes</th>\n",
       "      <th>price</th>\n",
       "      <th>rating_count</th>\n",
       "      <th>rating</th>\n",
       "    </tr>\n",
       "  </thead>\n",
       "  <tbody>\n",
       "    <tr>\n",
       "      <th>2625</th>\n",
       "      <td>952877179</td>\n",
       "      <td>VR Roller Coaster</td>\n",
       "      <td>Games</td>\n",
       "      <td>169523200</td>\n",
       "      <td>0.0</td>\n",
       "      <td>107</td>\n",
       "      <td>3.5</td>\n",
       "    </tr>\n",
       "  </tbody>\n",
       "</table>\n",
       "</div>"
      ],
      "text/plain": [
       "             id           app_name  genre  size_bytes  price  rating_count  \\\n",
       "2625  952877179  VR Roller Coaster  Games   169523200    0.0           107   \n",
       "\n",
       "      rating  \n",
       "2625     3.5  "
      ]
     },
     "metadata": {},
     "execution_count": 47
    }
   ],
   "metadata": {}
  },
  {
   "cell_type": "code",
   "execution_count": 48,
   "source": [
    "apple_unique.head()"
   ],
   "outputs": [
    {
     "output_type": "execute_result",
     "data": {
      "text/html": [
       "<div>\n",
       "<style scoped>\n",
       "    .dataframe tbody tr th:only-of-type {\n",
       "        vertical-align: middle;\n",
       "    }\n",
       "\n",
       "    .dataframe tbody tr th {\n",
       "        vertical-align: top;\n",
       "    }\n",
       "\n",
       "    .dataframe thead th {\n",
       "        text-align: right;\n",
       "    }\n",
       "</style>\n",
       "<table border=\"1\" class=\"dataframe\">\n",
       "  <thead>\n",
       "    <tr style=\"text-align: right;\">\n",
       "      <th></th>\n",
       "      <th>id</th>\n",
       "      <th>app_name</th>\n",
       "      <th>genre</th>\n",
       "      <th>size_bytes</th>\n",
       "      <th>price</th>\n",
       "      <th>rating_count</th>\n",
       "      <th>rating</th>\n",
       "    </tr>\n",
       "  </thead>\n",
       "  <tbody>\n",
       "    <tr>\n",
       "      <th>0</th>\n",
       "      <td>284882215</td>\n",
       "      <td>Facebook</td>\n",
       "      <td>Social Networking</td>\n",
       "      <td>389879808</td>\n",
       "      <td>0.0</td>\n",
       "      <td>2974676</td>\n",
       "      <td>3.5</td>\n",
       "    </tr>\n",
       "    <tr>\n",
       "      <th>1</th>\n",
       "      <td>389801252</td>\n",
       "      <td>Instagram</td>\n",
       "      <td>Photo &amp; Video</td>\n",
       "      <td>113954816</td>\n",
       "      <td>0.0</td>\n",
       "      <td>2161558</td>\n",
       "      <td>4.5</td>\n",
       "    </tr>\n",
       "    <tr>\n",
       "      <th>2</th>\n",
       "      <td>529479190</td>\n",
       "      <td>Clash of Clans</td>\n",
       "      <td>Games</td>\n",
       "      <td>116476928</td>\n",
       "      <td>0.0</td>\n",
       "      <td>2130805</td>\n",
       "      <td>4.5</td>\n",
       "    </tr>\n",
       "    <tr>\n",
       "      <th>3</th>\n",
       "      <td>420009108</td>\n",
       "      <td>Temple Run</td>\n",
       "      <td>Games</td>\n",
       "      <td>65921024</td>\n",
       "      <td>0.0</td>\n",
       "      <td>1724546</td>\n",
       "      <td>4.5</td>\n",
       "    </tr>\n",
       "    <tr>\n",
       "      <th>4</th>\n",
       "      <td>284035177</td>\n",
       "      <td>Pandora - Music &amp; Radio</td>\n",
       "      <td>Music</td>\n",
       "      <td>130242560</td>\n",
       "      <td>0.0</td>\n",
       "      <td>1126879</td>\n",
       "      <td>4.0</td>\n",
       "    </tr>\n",
       "  </tbody>\n",
       "</table>\n",
       "</div>"
      ],
      "text/plain": [
       "          id                 app_name              genre  size_bytes  price  \\\n",
       "0  284882215                 Facebook  Social Networking   389879808    0.0   \n",
       "1  389801252                Instagram      Photo & Video   113954816    0.0   \n",
       "2  529479190           Clash of Clans              Games   116476928    0.0   \n",
       "3  420009108               Temple Run              Games    65921024    0.0   \n",
       "4  284035177  Pandora - Music & Radio              Music   130242560    0.0   \n",
       "\n",
       "   rating_count  rating  \n",
       "0       2974676     3.5  \n",
       "1       2161558     4.5  \n",
       "2       2130805     4.5  \n",
       "3       1724546     4.5  \n",
       "4       1126879     4.0  "
      ]
     },
     "metadata": {},
     "execution_count": 48
    }
   ],
   "metadata": {}
  },
  {
   "cell_type": "code",
   "execution_count": 49,
   "source": [
    "apple_final = apple_unique.copy()[[\"app_name\", \"genre\", \"size_bytes\", \"rating_count\", \"rating\"]]\r\n",
    "apple_final.head()"
   ],
   "outputs": [
    {
     "output_type": "execute_result",
     "data": {
      "text/html": [
       "<div>\n",
       "<style scoped>\n",
       "    .dataframe tbody tr th:only-of-type {\n",
       "        vertical-align: middle;\n",
       "    }\n",
       "\n",
       "    .dataframe tbody tr th {\n",
       "        vertical-align: top;\n",
       "    }\n",
       "\n",
       "    .dataframe thead th {\n",
       "        text-align: right;\n",
       "    }\n",
       "</style>\n",
       "<table border=\"1\" class=\"dataframe\">\n",
       "  <thead>\n",
       "    <tr style=\"text-align: right;\">\n",
       "      <th></th>\n",
       "      <th>app_name</th>\n",
       "      <th>genre</th>\n",
       "      <th>size_bytes</th>\n",
       "      <th>rating_count</th>\n",
       "      <th>rating</th>\n",
       "    </tr>\n",
       "  </thead>\n",
       "  <tbody>\n",
       "    <tr>\n",
       "      <th>0</th>\n",
       "      <td>Facebook</td>\n",
       "      <td>Social Networking</td>\n",
       "      <td>389879808</td>\n",
       "      <td>2974676</td>\n",
       "      <td>3.5</td>\n",
       "    </tr>\n",
       "    <tr>\n",
       "      <th>1</th>\n",
       "      <td>Instagram</td>\n",
       "      <td>Photo &amp; Video</td>\n",
       "      <td>113954816</td>\n",
       "      <td>2161558</td>\n",
       "      <td>4.5</td>\n",
       "    </tr>\n",
       "    <tr>\n",
       "      <th>2</th>\n",
       "      <td>Clash of Clans</td>\n",
       "      <td>Games</td>\n",
       "      <td>116476928</td>\n",
       "      <td>2130805</td>\n",
       "      <td>4.5</td>\n",
       "    </tr>\n",
       "    <tr>\n",
       "      <th>3</th>\n",
       "      <td>Temple Run</td>\n",
       "      <td>Games</td>\n",
       "      <td>65921024</td>\n",
       "      <td>1724546</td>\n",
       "      <td>4.5</td>\n",
       "    </tr>\n",
       "    <tr>\n",
       "      <th>4</th>\n",
       "      <td>Pandora - Music &amp; Radio</td>\n",
       "      <td>Music</td>\n",
       "      <td>130242560</td>\n",
       "      <td>1126879</td>\n",
       "      <td>4.0</td>\n",
       "    </tr>\n",
       "  </tbody>\n",
       "</table>\n",
       "</div>"
      ],
      "text/plain": [
       "                  app_name              genre  size_bytes  rating_count  \\\n",
       "0                 Facebook  Social Networking   389879808       2974676   \n",
       "1                Instagram      Photo & Video   113954816       2161558   \n",
       "2           Clash of Clans              Games   116476928       2130805   \n",
       "3               Temple Run              Games    65921024       1724546   \n",
       "4  Pandora - Music & Radio              Music   130242560       1126879   \n",
       "\n",
       "   rating  \n",
       "0     3.5  \n",
       "1     4.5  \n",
       "2     4.5  \n",
       "3     4.5  \n",
       "4     4.0  "
      ]
     },
     "metadata": {},
     "execution_count": 49
    }
   ],
   "metadata": {}
  },
  {
   "cell_type": "markdown",
   "source": [
    "## Cleaning Google Play Store data"
   ],
   "metadata": {}
  },
  {
   "cell_type": "code",
   "execution_count": 50,
   "source": [
    "google_crop = google_store.copy()[[\"App\", \"Genres\", \"Size\", \"Price\", \"Reviews\", \"Rating\"]]\r\n",
    "google_crop.head()"
   ],
   "outputs": [
    {
     "output_type": "execute_result",
     "data": {
      "text/html": [
       "<div>\n",
       "<style scoped>\n",
       "    .dataframe tbody tr th:only-of-type {\n",
       "        vertical-align: middle;\n",
       "    }\n",
       "\n",
       "    .dataframe tbody tr th {\n",
       "        vertical-align: top;\n",
       "    }\n",
       "\n",
       "    .dataframe thead th {\n",
       "        text-align: right;\n",
       "    }\n",
       "</style>\n",
       "<table border=\"1\" class=\"dataframe\">\n",
       "  <thead>\n",
       "    <tr style=\"text-align: right;\">\n",
       "      <th></th>\n",
       "      <th>App</th>\n",
       "      <th>Genres</th>\n",
       "      <th>Size</th>\n",
       "      <th>Price</th>\n",
       "      <th>Reviews</th>\n",
       "      <th>Rating</th>\n",
       "    </tr>\n",
       "  </thead>\n",
       "  <tbody>\n",
       "    <tr>\n",
       "      <th>0</th>\n",
       "      <td>Photo Editor &amp; Candy Camera &amp; Grid &amp; ScrapBook</td>\n",
       "      <td>Art &amp; Design</td>\n",
       "      <td>19M</td>\n",
       "      <td>0</td>\n",
       "      <td>159</td>\n",
       "      <td>4.1</td>\n",
       "    </tr>\n",
       "    <tr>\n",
       "      <th>1</th>\n",
       "      <td>Coloring book moana</td>\n",
       "      <td>Art &amp; Design;Pretend Play</td>\n",
       "      <td>14M</td>\n",
       "      <td>0</td>\n",
       "      <td>967</td>\n",
       "      <td>3.9</td>\n",
       "    </tr>\n",
       "    <tr>\n",
       "      <th>2</th>\n",
       "      <td>U Launcher Lite – FREE Live Cool Themes, Hide ...</td>\n",
       "      <td>Art &amp; Design</td>\n",
       "      <td>8.7M</td>\n",
       "      <td>0</td>\n",
       "      <td>87510</td>\n",
       "      <td>4.7</td>\n",
       "    </tr>\n",
       "    <tr>\n",
       "      <th>3</th>\n",
       "      <td>Sketch - Draw &amp; Paint</td>\n",
       "      <td>Art &amp; Design</td>\n",
       "      <td>25M</td>\n",
       "      <td>0</td>\n",
       "      <td>215644</td>\n",
       "      <td>4.5</td>\n",
       "    </tr>\n",
       "    <tr>\n",
       "      <th>4</th>\n",
       "      <td>Pixel Draw - Number Art Coloring Book</td>\n",
       "      <td>Art &amp; Design;Creativity</td>\n",
       "      <td>2.8M</td>\n",
       "      <td>0</td>\n",
       "      <td>967</td>\n",
       "      <td>4.3</td>\n",
       "    </tr>\n",
       "  </tbody>\n",
       "</table>\n",
       "</div>"
      ],
      "text/plain": [
       "                                                 App  \\\n",
       "0     Photo Editor & Candy Camera & Grid & ScrapBook   \n",
       "1                                Coloring book moana   \n",
       "2  U Launcher Lite – FREE Live Cool Themes, Hide ...   \n",
       "3                              Sketch - Draw & Paint   \n",
       "4              Pixel Draw - Number Art Coloring Book   \n",
       "\n",
       "                      Genres  Size Price Reviews  Rating  \n",
       "0               Art & Design   19M     0     159     4.1  \n",
       "1  Art & Design;Pretend Play   14M     0     967     3.9  \n",
       "2               Art & Design  8.7M     0   87510     4.7  \n",
       "3               Art & Design   25M     0  215644     4.5  \n",
       "4    Art & Design;Creativity  2.8M     0     967     4.3  "
      ]
     },
     "metadata": {},
     "execution_count": 50
    }
   ],
   "metadata": {}
  },
  {
   "cell_type": "code",
   "execution_count": 51,
   "source": [
    "google_crop.columns = [\"app_name\", \"genre\", \"size_bytes\", \"price\", \"rating_count\", \"rating\"]\r\n",
    "google_crop.head()"
   ],
   "outputs": [
    {
     "output_type": "execute_result",
     "data": {
      "text/html": [
       "<div>\n",
       "<style scoped>\n",
       "    .dataframe tbody tr th:only-of-type {\n",
       "        vertical-align: middle;\n",
       "    }\n",
       "\n",
       "    .dataframe tbody tr th {\n",
       "        vertical-align: top;\n",
       "    }\n",
       "\n",
       "    .dataframe thead th {\n",
       "        text-align: right;\n",
       "    }\n",
       "</style>\n",
       "<table border=\"1\" class=\"dataframe\">\n",
       "  <thead>\n",
       "    <tr style=\"text-align: right;\">\n",
       "      <th></th>\n",
       "      <th>app_name</th>\n",
       "      <th>genre</th>\n",
       "      <th>size_bytes</th>\n",
       "      <th>price</th>\n",
       "      <th>rating_count</th>\n",
       "      <th>rating</th>\n",
       "    </tr>\n",
       "  </thead>\n",
       "  <tbody>\n",
       "    <tr>\n",
       "      <th>0</th>\n",
       "      <td>Photo Editor &amp; Candy Camera &amp; Grid &amp; ScrapBook</td>\n",
       "      <td>Art &amp; Design</td>\n",
       "      <td>19M</td>\n",
       "      <td>0</td>\n",
       "      <td>159</td>\n",
       "      <td>4.1</td>\n",
       "    </tr>\n",
       "    <tr>\n",
       "      <th>1</th>\n",
       "      <td>Coloring book moana</td>\n",
       "      <td>Art &amp; Design;Pretend Play</td>\n",
       "      <td>14M</td>\n",
       "      <td>0</td>\n",
       "      <td>967</td>\n",
       "      <td>3.9</td>\n",
       "    </tr>\n",
       "    <tr>\n",
       "      <th>2</th>\n",
       "      <td>U Launcher Lite – FREE Live Cool Themes, Hide ...</td>\n",
       "      <td>Art &amp; Design</td>\n",
       "      <td>8.7M</td>\n",
       "      <td>0</td>\n",
       "      <td>87510</td>\n",
       "      <td>4.7</td>\n",
       "    </tr>\n",
       "    <tr>\n",
       "      <th>3</th>\n",
       "      <td>Sketch - Draw &amp; Paint</td>\n",
       "      <td>Art &amp; Design</td>\n",
       "      <td>25M</td>\n",
       "      <td>0</td>\n",
       "      <td>215644</td>\n",
       "      <td>4.5</td>\n",
       "    </tr>\n",
       "    <tr>\n",
       "      <th>4</th>\n",
       "      <td>Pixel Draw - Number Art Coloring Book</td>\n",
       "      <td>Art &amp; Design;Creativity</td>\n",
       "      <td>2.8M</td>\n",
       "      <td>0</td>\n",
       "      <td>967</td>\n",
       "      <td>4.3</td>\n",
       "    </tr>\n",
       "  </tbody>\n",
       "</table>\n",
       "</div>"
      ],
      "text/plain": [
       "                                            app_name  \\\n",
       "0     Photo Editor & Candy Camera & Grid & ScrapBook   \n",
       "1                                Coloring book moana   \n",
       "2  U Launcher Lite – FREE Live Cool Themes, Hide ...   \n",
       "3                              Sketch - Draw & Paint   \n",
       "4              Pixel Draw - Number Art Coloring Book   \n",
       "\n",
       "                       genre size_bytes price rating_count  rating  \n",
       "0               Art & Design        19M     0          159     4.1  \n",
       "1  Art & Design;Pretend Play        14M     0          967     3.9  \n",
       "2               Art & Design       8.7M     0        87510     4.7  \n",
       "3               Art & Design        25M     0       215644     4.5  \n",
       "4    Art & Design;Creativity       2.8M     0          967     4.3  "
      ]
     },
     "metadata": {},
     "execution_count": 51
    }
   ],
   "metadata": {}
  },
  {
   "cell_type": "code",
   "execution_count": 52,
   "source": [
    "google_crop['price'].value_counts()"
   ],
   "outputs": [
    {
     "output_type": "execute_result",
     "data": {
      "text/plain": [
       "0         10040\n",
       "$0.99       148\n",
       "$2.99       129\n",
       "$1.99        73\n",
       "$4.99        72\n",
       "          ...  \n",
       "$1.75         1\n",
       "$14.00        1\n",
       "$4.85         1\n",
       "$46.99        1\n",
       "$1.04         1\n",
       "Name: price, Length: 93, dtype: int64"
      ]
     },
     "metadata": {},
     "execution_count": 52
    }
   ],
   "metadata": {}
  },
  {
   "cell_type": "code",
   "execution_count": 53,
   "source": [
    "try:\r\n",
    "    google_crop['price'] = google_crop['price'].str.replace('$', '').astype(float)\r\n",
    "except:\r\n",
    "    print(\"There's some price value which is not a price\")"
   ],
   "outputs": [
    {
     "output_type": "stream",
     "name": "stdout",
     "text": [
      "There's some price value which is not a price\n"
     ]
    },
    {
     "output_type": "stream",
     "name": "stderr",
     "text": [
      "C:\\Users\\Dell\\AppData\\Local\\Temp/ipykernel_49216/2193917461.py:2: FutureWarning: The default value of regex will change from True to False in a future version. In addition, single character regular expressions will *not* be treated as literal strings when regex=True.\n",
      "  google_crop['price'] = google_crop['price'].str.replace('$', '').astype(float)\n"
     ]
    }
   ],
   "metadata": {}
  },
  {
   "cell_type": "code",
   "execution_count": 54,
   "source": [
    "google_crop.loc[~google_crop['price'].str.startswith(\"$\"), 'price'].value_counts()"
   ],
   "outputs": [
    {
     "output_type": "execute_result",
     "data": {
      "text/plain": [
       "0           10040\n",
       "Everyone        1\n",
       "Name: price, dtype: int64"
      ]
     },
     "metadata": {},
     "execution_count": 54
    }
   ],
   "metadata": {}
  },
  {
   "cell_type": "code",
   "execution_count": 55,
   "source": [
    "google_crop[google_crop['price'] == 'Everyone']"
   ],
   "outputs": [
    {
     "output_type": "execute_result",
     "data": {
      "text/html": [
       "<div>\n",
       "<style scoped>\n",
       "    .dataframe tbody tr th:only-of-type {\n",
       "        vertical-align: middle;\n",
       "    }\n",
       "\n",
       "    .dataframe tbody tr th {\n",
       "        vertical-align: top;\n",
       "    }\n",
       "\n",
       "    .dataframe thead th {\n",
       "        text-align: right;\n",
       "    }\n",
       "</style>\n",
       "<table border=\"1\" class=\"dataframe\">\n",
       "  <thead>\n",
       "    <tr style=\"text-align: right;\">\n",
       "      <th></th>\n",
       "      <th>app_name</th>\n",
       "      <th>genre</th>\n",
       "      <th>size_bytes</th>\n",
       "      <th>price</th>\n",
       "      <th>rating_count</th>\n",
       "      <th>rating</th>\n",
       "    </tr>\n",
       "  </thead>\n",
       "  <tbody>\n",
       "    <tr>\n",
       "      <th>10472</th>\n",
       "      <td>Life Made WI-Fi Touchscreen Photo Frame</td>\n",
       "      <td>February 11, 2018</td>\n",
       "      <td>1,000+</td>\n",
       "      <td>Everyone</td>\n",
       "      <td>3.0M</td>\n",
       "      <td>19.0</td>\n",
       "    </tr>\n",
       "  </tbody>\n",
       "</table>\n",
       "</div>"
      ],
      "text/plain": [
       "                                      app_name              genre size_bytes  \\\n",
       "10472  Life Made WI-Fi Touchscreen Photo Frame  February 11, 2018     1,000+   \n",
       "\n",
       "          price rating_count  rating  \n",
       "10472  Everyone         3.0M    19.0  "
      ]
     },
     "metadata": {},
     "execution_count": 55
    }
   ],
   "metadata": {}
  },
  {
   "cell_type": "code",
   "execution_count": 56,
   "source": [
    "google_store.iloc[10472]"
   ],
   "outputs": [
    {
     "output_type": "execute_result",
     "data": {
      "text/plain": [
       "App               Life Made WI-Fi Touchscreen Photo Frame\n",
       "Category                                              1.9\n",
       "Rating                                               19.0\n",
       "Reviews                                              3.0M\n",
       "Size                                               1,000+\n",
       "Installs                                             Free\n",
       "Type                                                    0\n",
       "Price                                            Everyone\n",
       "Content Rating                                        NaN\n",
       "Genres                                  February 11, 2018\n",
       "Last Updated                                       1.0.19\n",
       "Current Ver                                    4.0 and up\n",
       "Android Ver                                           NaN\n",
       "Name: 10472, dtype: object"
      ]
     },
     "metadata": {},
     "execution_count": 56
    }
   ],
   "metadata": {}
  },
  {
   "cell_type": "code",
   "execution_count": 58,
   "source": [
    "google_crop.dtypes"
   ],
   "outputs": [
    {
     "output_type": "execute_result",
     "data": {
      "text/plain": [
       "app_name         object\n",
       "genre            object\n",
       "size_bytes       object\n",
       "price            object\n",
       "rating_count     object\n",
       "rating          float64\n",
       "dtype: object"
      ]
     },
     "metadata": {},
     "execution_count": 58
    }
   ],
   "metadata": {}
  },
  {
   "cell_type": "markdown",
   "source": [
    "Add photo of Google Play Store"
   ],
   "metadata": {}
  },
  {
   "cell_type": "code",
   "execution_count": 60,
   "source": [
    "google_crop.loc[10472, \"genre\"] = \"Lifestyle\"\r\n",
    "google_crop.loc[10472, \"size_bytes\"] = \"3.0M\"\r\n",
    "google_crop.loc[10472, \"price\"] = \"0\"\r\n",
    "google_crop.loc[10472, \"rating_count\"] = \"19\"\r\n",
    "google_crop.loc[10472, \"rating\"] = 1.9\r\n",
    "google_crop.loc[10472]"
   ],
   "outputs": [
    {
     "output_type": "execute_result",
     "data": {
      "text/plain": [
       "app_name        Life Made WI-Fi Touchscreen Photo Frame\n",
       "genre                                         Lifestyle\n",
       "size_bytes                                         3.0M\n",
       "price                                                 0\n",
       "rating_count                                         19\n",
       "rating                                              1.9\n",
       "Name: 10472, dtype: object"
      ]
     },
     "metadata": {},
     "execution_count": 60
    }
   ],
   "metadata": {}
  },
  {
   "cell_type": "code",
   "execution_count": 61,
   "source": [
    "try:\r\n",
    "    google_crop['price'] = google_crop['price'].str.replace('$', '').astype(float)\r\n",
    "except:\r\n",
    "    print(\"There's some price value which is not a price\")"
   ],
   "outputs": [
    {
     "output_type": "stream",
     "name": "stderr",
     "text": [
      "C:\\Users\\Dell\\AppData\\Local\\Temp/ipykernel_49216/2193917461.py:2: FutureWarning: The default value of regex will change from True to False in a future version. In addition, single character regular expressions will *not* be treated as literal strings when regex=True.\n",
      "  google_crop['price'] = google_crop['price'].str.replace('$', '').astype(float)\n"
     ]
    }
   ],
   "metadata": {}
  },
  {
   "cell_type": "code",
   "execution_count": 62,
   "source": [
    "google_crop.isna().describe()"
   ],
   "outputs": [
    {
     "output_type": "execute_result",
     "data": {
      "text/html": [
       "<div>\n",
       "<style scoped>\n",
       "    .dataframe tbody tr th:only-of-type {\n",
       "        vertical-align: middle;\n",
       "    }\n",
       "\n",
       "    .dataframe tbody tr th {\n",
       "        vertical-align: top;\n",
       "    }\n",
       "\n",
       "    .dataframe thead th {\n",
       "        text-align: right;\n",
       "    }\n",
       "</style>\n",
       "<table border=\"1\" class=\"dataframe\">\n",
       "  <thead>\n",
       "    <tr style=\"text-align: right;\">\n",
       "      <th></th>\n",
       "      <th>app_name</th>\n",
       "      <th>genre</th>\n",
       "      <th>size_bytes</th>\n",
       "      <th>price</th>\n",
       "      <th>rating_count</th>\n",
       "      <th>rating</th>\n",
       "    </tr>\n",
       "  </thead>\n",
       "  <tbody>\n",
       "    <tr>\n",
       "      <th>count</th>\n",
       "      <td>10841</td>\n",
       "      <td>10841</td>\n",
       "      <td>10841</td>\n",
       "      <td>10841</td>\n",
       "      <td>10841</td>\n",
       "      <td>10841</td>\n",
       "    </tr>\n",
       "    <tr>\n",
       "      <th>unique</th>\n",
       "      <td>1</td>\n",
       "      <td>1</td>\n",
       "      <td>1</td>\n",
       "      <td>1</td>\n",
       "      <td>1</td>\n",
       "      <td>2</td>\n",
       "    </tr>\n",
       "    <tr>\n",
       "      <th>top</th>\n",
       "      <td>False</td>\n",
       "      <td>False</td>\n",
       "      <td>False</td>\n",
       "      <td>False</td>\n",
       "      <td>False</td>\n",
       "      <td>False</td>\n",
       "    </tr>\n",
       "    <tr>\n",
       "      <th>freq</th>\n",
       "      <td>10841</td>\n",
       "      <td>10841</td>\n",
       "      <td>10841</td>\n",
       "      <td>10841</td>\n",
       "      <td>10841</td>\n",
       "      <td>9367</td>\n",
       "    </tr>\n",
       "  </tbody>\n",
       "</table>\n",
       "</div>"
      ],
      "text/plain": [
       "       app_name  genre size_bytes  price rating_count rating\n",
       "count     10841  10841      10841  10841        10841  10841\n",
       "unique        1      1          1      1            1      2\n",
       "top       False  False      False  False        False  False\n",
       "freq      10841  10841      10841  10841        10841   9367"
      ]
     },
     "metadata": {},
     "execution_count": 62
    }
   ],
   "metadata": {}
  },
  {
   "cell_type": "code",
   "execution_count": 66,
   "source": [
    "google_crop['rating'].isna().value_counts()"
   ],
   "outputs": [
    {
     "output_type": "execute_result",
     "data": {
      "text/plain": [
       "False    9367\n",
       "True     1474\n",
       "Name: rating, dtype: int64"
      ]
     },
     "metadata": {},
     "execution_count": 66
    }
   ],
   "metadata": {}
  },
  {
   "cell_type": "code",
   "execution_count": null,
   "source": [],
   "outputs": [],
   "metadata": {}
  },
  {
   "cell_type": "markdown",
   "source": [
    "next steps:\r\n",
    "\r\n",
    "make a graph to find out where are the ratings NaN (genre)\r\n",
    "sum the rating count for the NaN ratings\r\n",
    "take a decision of what to do with those 1.4k values"
   ],
   "metadata": {}
  },
  {
   "cell_type": "markdown",
   "source": [],
   "metadata": {}
  }
 ],
 "metadata": {
  "orig_nbformat": 4,
  "language_info": {
   "name": "python",
   "version": "3.9.6",
   "mimetype": "text/x-python",
   "codemirror_mode": {
    "name": "ipython",
    "version": 3
   },
   "pygments_lexer": "ipython3",
   "nbconvert_exporter": "python",
   "file_extension": ".py"
  },
  "kernelspec": {
   "name": "python3",
   "display_name": "Python 3.9.6 64-bit (system)"
  },
  "interpreter": {
   "hash": "ac59ebe37160ed0dfa835113d9b8498d9f09ceb179beaac4002f036b9467c963"
  }
 },
 "nbformat": 4,
 "nbformat_minor": 2
}