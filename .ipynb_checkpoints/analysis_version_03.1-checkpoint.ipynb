{
 "cells": [
  {
   "cell_type": "markdown",
   "id": "046b3319",
   "metadata": {},
   "source": [
    "# Elements of success in iOS's App Store\n",
    "As of September 2018, there were approximately 2 million iOS apps available on the App Store. By looking at a sample of those, we'll ask the questions:\n",
    "\n",
    "> Are there shared elements that contribute to **free** mobile application's *success*?\n",
    "\n",
    "> Are there shared elements that contribute to **free** mobile application's *failure*?\n",
    "\n",
    "### OBJECTIVE\n",
    "By the end of this analysis we expect a graphical representation of the correlation between specific elements and the success/failure of the app. The **elements to be evaluated** are:\n",
    "- App's name length & key words\n",
    "- App's genre in comparision to other genres\n",
    "- App's size in bytes\n",
    "\n",
    "And the **success/failure** will be defined as a score considering:\n",
    "- Absolute Rating Count\n",
    "- Average Rating itself\n",
    "- These measures considering both overall and grouped in genres\n",
    "\n",
    "### FLOW STRUCTURE\n",
    "Throughout this document the colors as well as title numbers (1, 2...) will indicate in which part of the flow we are. By the end you can find the summary of the findings.\n",
    "1. <font color=red>**Data Cleaning**</font>: Making sure the data is properly displayed before analysis\n",
    "2. <font color=pink>**Success Score**</font>: Generating the score and ranking the apps accordingly\n",
    "3. <font color=orange>**Splitting Sample**</font>: Defining the borderline between Success & Failure\n",
    "4. <font color=blue>**Element's Evaluation**</font>: Correlation analysis between each element and the Success score\n",
    "5. <font color=green>**Conclusion**</font>: Summary of the findings\n",
    "\n",
    "### LIBRARIES\n",
    "- Pandas\n",
    "- Numpy\n",
    "- Matplotlib\n",
    "- Scipy\n",
    "- Itertools\n",
    "- Regex\n",
    "\n",
    "### RESOURCES"
   ]
  },
  {
   "cell_type": "code",
   "execution_count": null,
   "id": "24730413",
   "metadata": {},
   "outputs": [],
   "source": []
  }
 ],
 "metadata": {
  "kernelspec": {
   "display_name": "Python 3",
   "language": "python",
   "name": "python3"
  },
  "language_info": {
   "codemirror_mode": {
    "name": "ipython",
    "version": 3
   },
   "file_extension": ".py",
   "mimetype": "text/x-python",
   "name": "python",
   "nbconvert_exporter": "python",
   "pygments_lexer": "ipython3",
   "version": "3.8.8"
  }
 },
 "nbformat": 4,
 "nbformat_minor": 5
}
