{
 "cells": [
  {
   "cell_type": "markdown",
   "source": [
    "# My Project Name\n",
    "\n",
    "## ABOUT\n",
    "This project is about understanding key characteristics in mobile apps that make'em successful and profitable even if free. Through a business model perspective of free apps with earnings achieved from advertisement, we will dig deep in a sample size from both AppleStore and Google Play Store, and understand what are the key elements for success.\n",
    "\n",
    "## GOAL\n",
    "And the project goal is to provide a set of characteristics present in current apps that should not be overlooked when aiming for free apps with advertisement as base revenue.\n",
    "\n",
    "## HOW\n",
    "By analyzing a sample size which includes more than 15 000 apps from both Apple Store and Google Play Store, we will map out the relevant data, filtering it into relevant insights.\n",
    "\n",
    "## SOURCES\n",
    "As part of the DataQuest program, the guidence was provided by them, and the data-set was found on Kaggle.\n",
    "[Apple Store Data](https://www.kaggle.com/ramamet4/app-store-apple-data-set-10k-apps)\n",
    "[Google Play Store Data](https://www.kaggle.com/lava18/google-play-store-apps)\n",
    "[DataQuest](http://dataquest.io/)"
   ],
   "metadata": {}
  },
  {
   "cell_type": "markdown",
   "source": [
    "**STEP 1**\n",
    "Opening the data-sets as lists, as well as sepparating the header."
   ],
   "metadata": {}
  },
  {
   "cell_type": "code",
   "execution_count": 5,
   "source": [
    "opened_apple = open('AppleStore.csv', encoding='utf8')\r\n",
    "opened_google = open('googleplaystore.csv', encoding='utf8')\r\n",
    "\r\n",
    "from csv import reader\r\n",
    "\r\n",
    "data_apple = list(reader(opened_apple))\r\n",
    "data_google = list(reader(opened_google))\r\n",
    "\r\n",
    "header_apple = data_apple.pop(0)\r\n",
    "header_google = data_google.pop(0)"
   ],
   "outputs": [],
   "metadata": {}
  },
  {
   "cell_type": "markdown",
   "source": [
    "**STEP 2**\n",
    "Defining a function that allow exploring the lists."
   ],
   "metadata": {}
  },
  {
   "cell_type": "code",
   "execution_count": 6,
   "source": [
    "def explore_data(dataset, start, end, rows_and_columns=False):\r\n",
    "    dataset_slice = dataset[start:end]    \r\n",
    "    for row in dataset_slice:\r\n",
    "        print(row)\r\n",
    "        print('\\n')\r\n",
    "\r\n",
    "    if rows_and_columns:\r\n",
    "        print('Number of rows:', len(dataset))\r\n",
    "        print('Number of columns:', len(dataset[0]))"
   ],
   "outputs": [],
   "metadata": {}
  },
  {
   "cell_type": "code",
   "execution_count": 7,
   "source": [
    "explore_data(data_google, 0, 4, True)"
   ],
   "outputs": [
    {
     "output_type": "stream",
     "name": "stdout",
     "text": [
      "['Photo Editor & Candy Camera & Grid & ScrapBook', 'ART_AND_DESIGN', '4.1', '159', '19M', '10,000+', 'Free', '0', 'Everyone', 'Art & Design', 'January 7, 2018', '1.0.0', '4.0.3 and up']\n",
      "\n",
      "\n",
      "['Coloring book moana', 'ART_AND_DESIGN', '3.9', '967', '14M', '500,000+', 'Free', '0', 'Everyone', 'Art & Design;Pretend Play', 'January 15, 2018', '2.0.0', '4.0.3 and up']\n",
      "\n",
      "\n",
      "['U Launcher Lite – FREE Live Cool Themes, Hide Apps', 'ART_AND_DESIGN', '4.7', '87510', '8.7M', '5,000,000+', 'Free', '0', 'Everyone', 'Art & Design', 'August 1, 2018', '1.2.4', '4.0.3 and up']\n",
      "\n",
      "\n",
      "['Sketch - Draw & Paint', 'ART_AND_DESIGN', '4.5', '215644', '25M', '50,000,000+', 'Free', '0', 'Teen', 'Art & Design', 'June 8, 2018', 'Varies with device', '4.2 and up']\n",
      "\n",
      "\n",
      "Number of rows: 10841\n",
      "Number of columns: 13\n"
     ]
    }
   ],
   "metadata": {}
  },
  {
   "cell_type": "code",
   "execution_count": 8,
   "source": [
    "explore_data(data_apple, 0, 4, True)"
   ],
   "outputs": [
    {
     "output_type": "stream",
     "name": "stdout",
     "text": [
      "['284882215', 'Facebook', '389879808', 'USD', '0.0', '2974676', '212', '3.5', '3.5', '95.0', '4+', 'Social Networking', '37', '1', '29', '1']\n",
      "\n",
      "\n",
      "['389801252', 'Instagram', '113954816', 'USD', '0.0', '2161558', '1289', '4.5', '4.0', '10.23', '12+', 'Photo & Video', '37', '0', '29', '1']\n",
      "\n",
      "\n",
      "['529479190', 'Clash of Clans', '116476928', 'USD', '0.0', '2130805', '579', '4.5', '4.5', '9.24.12', '9+', 'Games', '38', '5', '18', '1']\n",
      "\n",
      "\n",
      "['420009108', 'Temple Run', '65921024', 'USD', '0.0', '1724546', '3842', '4.5', '4.0', '1.6.2', '9+', 'Games', '40', '5', '1', '1']\n",
      "\n",
      "\n",
      "Number of rows: 7197\n",
      "Number of columns: 16\n"
     ]
    }
   ],
   "metadata": {}
  },
  {
   "cell_type": "markdown",
   "source": [
    "**STEP 3**\n",
    "Understanding the headers, which means understanding each column content."
   ],
   "metadata": {}
  },
  {
   "cell_type": "code",
   "execution_count": 9,
   "source": [
    "print('Google Play Store:' ,header_google, '\\n', '\\n', 'Apple Store:', header_apple)"
   ],
   "outputs": [
    {
     "output_type": "stream",
     "name": "stdout",
     "text": [
      "Google Play Store: ['App', 'Category', 'Rating', 'Reviews', 'Size', 'Installs', 'Type', 'Price', 'Content Rating', 'Genres', 'Last Updated', 'Current Ver', 'Android Ver'] \n",
      " \n",
      " Apple Store: ['id', 'track_name', 'size_bytes', 'currency', 'price', 'rating_count_tot', 'rating_count_ver', 'user_rating', 'user_rating_ver', 'ver', 'cont_rating', 'prime_genre', 'sup_devices.num', 'ipadSc_urls.num', 'lang.num', 'vpp_lic']\n"
     ]
    }
   ],
   "metadata": {}
  },
  {
   "cell_type": "code",
   "execution_count": null,
   "source": [],
   "outputs": [],
   "metadata": {}
  }
 ],
 "metadata": {
  "kernelspec": {
   "name": "python3",
   "display_name": "Python 3.9.6 64-bit (system)"
  },
  "language_info": {
   "codemirror_mode": {
    "name": "ipython",
    "version": 3
   },
   "file_extension": ".py",
   "mimetype": "text/x-python",
   "name": "python",
   "nbconvert_exporter": "python",
   "pygments_lexer": "ipython3",
   "version": "3.9.6"
  },
  "interpreter": {
   "hash": "ac59ebe37160ed0dfa835113d9b8498d9f09ceb179beaac4002f036b9467c963"
  }
 },
 "nbformat": 4,
 "nbformat_minor": 2
}